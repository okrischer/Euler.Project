{
 "cells": [
  {
   "cell_type": "markdown",
   "id": "e7aca9fa-9bb7-48b5-a243-216e8b7deeef",
   "metadata": {},
   "source": [
    "# Problem 003: Largest Prime Factor\n",
    "The prime factors of 13195 are 5, 7, 13 and 29.\n",
    "\n",
    "**What is the largest prime factor of the number 600851475143?**"
   ]
  },
  {
   "cell_type": "markdown",
   "id": "1502f855-04d9-4398-8531-171620e70123",
   "metadata": {},
   "source": [
    "## Designing the Solution\n",
    "A number *d* is a factor of a number *n* if *d* divides *n* without remainder: $\\mod(n, d) = 0$.\\\n",
    "A *prime number* is a natural number which is divisible only by 1 and itself.\\\n",
    "So, a first idea for solving the problem could be:\n",
    "* check every odd number from 3 up to $\\frac{n}{2}$ for dividing n\n",
    "* check every resulting factor for primality\n",
    "* get the largest of these prime factors\n",
    "\n",
    "Let's try this appoach:"
   ]
  },
  {
   "cell_type": "code",
   "execution_count": 1,
   "id": "a7270372-7631-4385-af18-6e665abc1203",
   "metadata": {},
   "outputs": [
    {
     "data": {
      "text/plain": [
       "isprime (generic function with 1 method)"
      ]
     },
     "execution_count": 1,
     "metadata": {},
     "output_type": "execute_result"
    }
   ],
   "source": [
    "# check if n is prime\n",
    "function isprime(n)\n",
    "    iseven(n) && return false\n",
    "    for d in 3:2:n÷2\n",
    "        n % d == 0 && return false\n",
    "    end\n",
    "    true\n",
    "end"
   ]
  },
  {
   "cell_type": "code",
   "execution_count": 2,
   "id": "f0a96c3d-9592-41f6-8167-9296cd3a1413",
   "metadata": {},
   "outputs": [
    {
     "data": {
      "text/plain": [
       "allFactors (generic function with 1 method)"
      ]
     },
     "execution_count": 2,
     "metadata": {},
     "output_type": "execute_result"
    }
   ],
   "source": [
    "# get prime factors of n\n",
    "function allFactors(n)\n",
    "    [d for d in 3:2:n÷2 if n % d == 0 && isprime(d)]\n",
    "end"
   ]
  },
  {
   "cell_type": "code",
   "execution_count": 3,
   "id": "74654a3b-65d2-4bd1-ac6f-f66cb6def53d",
   "metadata": {},
   "outputs": [
    {
     "data": {
      "text/plain": [
       "4-element Vector{Int64}:\n",
       "  5\n",
       "  7\n",
       " 13\n",
       " 29"
      ]
     },
     "execution_count": 3,
     "metadata": {},
     "output_type": "execute_result"
    }
   ],
   "source": [
    "allFactors(13195)"
   ]
  },
  {
   "cell_type": "code",
   "execution_count": 4,
   "id": "ad721f46-faf3-4146-ac56-ac0c5ca74def",
   "metadata": {},
   "outputs": [
    {
     "data": {
      "text/plain": [
       "BenchmarkTools.Trial: 10000 samples with 6 evaluations.\n",
       " Range \u001b[90m(\u001b[39m\u001b[36m\u001b[1mmin\u001b[22m\u001b[39m … \u001b[35mmax\u001b[39m\u001b[90m):  \u001b[39m\u001b[36m\u001b[1m5.131 μs\u001b[22m\u001b[39m … \u001b[35m 8.042 μs\u001b[39m  \u001b[90m┊\u001b[39m GC \u001b[90m(\u001b[39mmin … max\u001b[90m): \u001b[39m0.00% … 0.00%\n",
       " Time  \u001b[90m(\u001b[39m\u001b[34m\u001b[1mmedian\u001b[22m\u001b[39m\u001b[90m):     \u001b[39m\u001b[34m\u001b[1m5.141 μs              \u001b[22m\u001b[39m\u001b[90m┊\u001b[39m GC \u001b[90m(\u001b[39mmedian\u001b[90m):    \u001b[39m0.00%\n",
       " Time  \u001b[90m(\u001b[39m\u001b[32m\u001b[1mmean\u001b[22m\u001b[39m ± \u001b[32mσ\u001b[39m\u001b[90m):   \u001b[39m\u001b[32m\u001b[1m5.155 μs\u001b[22m\u001b[39m ± \u001b[32m95.254 ns\u001b[39m  \u001b[90m┊\u001b[39m GC \u001b[90m(\u001b[39mmean ± σ\u001b[90m):  \u001b[39m0.00% ± 0.00%\n",
       "\n",
       "  \u001b[39m▂\u001b[39m█\u001b[34m▆\u001b[39m\u001b[39m▄\u001b[32m▃\u001b[39m\u001b[39m▂\u001b[39m▁\u001b[39m \u001b[39m \u001b[39m \u001b[39m \u001b[39m \u001b[39m \u001b[39m \u001b[39m \u001b[39m▃\u001b[39m▂\u001b[39m \u001b[39m \u001b[39m \u001b[39m \u001b[39m \u001b[39m \u001b[39m \u001b[39m \u001b[39m \u001b[39m \u001b[39m \u001b[39m \u001b[39m \u001b[39m \u001b[39m \u001b[39m \u001b[39m \u001b[39m \u001b[39m \u001b[39m \u001b[39m \u001b[39m \u001b[39m \u001b[39m \u001b[39m \u001b[39m \u001b[39m \u001b[39m \u001b[39m \u001b[39m \u001b[39m \u001b[39m \u001b[39m \u001b[39m \u001b[39m \u001b[39m \u001b[39m \u001b[39m \u001b[39m \u001b[39m \u001b[39m \u001b[39m \u001b[39m▁\n",
       "  \u001b[39m█\u001b[39m█\u001b[34m█\u001b[39m\u001b[39m█\u001b[32m█\u001b[39m\u001b[39m█\u001b[39m█\u001b[39m█\u001b[39m█\u001b[39m▆\u001b[39m▆\u001b[39m▆\u001b[39m▆\u001b[39m▅\u001b[39m█\u001b[39m█\u001b[39m█\u001b[39m▇\u001b[39m▇\u001b[39m▆\u001b[39m▄\u001b[39m▄\u001b[39m▄\u001b[39m▁\u001b[39m▃\u001b[39m▁\u001b[39m▃\u001b[39m▁\u001b[39m▁\u001b[39m▃\u001b[39m▁\u001b[39m▁\u001b[39m▁\u001b[39m▁\u001b[39m▁\u001b[39m▁\u001b[39m▁\u001b[39m▁\u001b[39m▁\u001b[39m▁\u001b[39m▁\u001b[39m▁\u001b[39m▁\u001b[39m▁\u001b[39m▁\u001b[39m▁\u001b[39m▁\u001b[39m▁\u001b[39m▁\u001b[39m▁\u001b[39m▁\u001b[39m▁\u001b[39m▁\u001b[39m▃\u001b[39m▁\u001b[39m▃\u001b[39m▆\u001b[39m▅\u001b[39m \u001b[39m█\n",
       "  5.13 μs\u001b[90m      \u001b[39m\u001b[90mHistogram: \u001b[39m\u001b[90m\u001b[1mlog(\u001b[22m\u001b[39m\u001b[90mfrequency\u001b[39m\u001b[90m\u001b[1m)\u001b[22m\u001b[39m\u001b[90m by time\u001b[39m     5.48 μs \u001b[0m\u001b[1m<\u001b[22m\n",
       "\n",
       " Memory estimate\u001b[90m: \u001b[39m\u001b[33m208 bytes\u001b[39m, allocs estimate\u001b[90m: \u001b[39m\u001b[33m3\u001b[39m."
      ]
     },
     "execution_count": 4,
     "metadata": {},
     "output_type": "execute_result"
    }
   ],
   "source": [
    "using BenchmarkTools\n",
    "@benchmark allFactors(13195)"
   ]
  },
  {
   "cell_type": "markdown",
   "id": "7e0108da-9e2d-4261-9e78-73f4431bbee7",
   "metadata": {},
   "source": [
    "While this works well for small n, calling `allFactors` with 600851475143 doesn't produce a result on my machine within a reasonable time.\\\n",
    "The runtime complexity for `allFactors` is quadratic ($\\mathcal{O}(n^2)$) as the algorithm iterates over all *n* (outer loop) and over every found divisor *d* (inner loop), both of them having linear compelxity.\\\n",
    "Clearly, this appoach is not feasible.\n",
    "\n",
    "But what the other way round? We could generate the prime numbers at first and then check if they divide the given number.\n",
    "\n",
    "## Optimizing the Solution\n",
    "### Checking against Prime Numbers\n",
    "We will use an ancient algorithm for generating prime numbers, known as the [Sieve of Eratosthenes](https://en.wikipedia.org/wiki/Sieve_of_Eratosthenes)."
   ]
  },
  {
   "cell_type": "code",
   "execution_count": 5,
   "id": "b4b16e17-f5c4-418d-812c-1a28aa770c8f",
   "metadata": {},
   "outputs": [
    {
     "data": {
      "text/plain": [
       "sieve (generic function with 1 method)"
      ]
     },
     "execution_count": 5,
     "metadata": {},
     "output_type": "execute_result"
    }
   ],
   "source": [
    "function sieve(n)\n",
    "    isprime = trues(n+1)\n",
    "    primes = Vector{Int64}()\n",
    "    for i in 2:n\n",
    "        if isprime[i]\n",
    "            push!(primes, i)\n",
    "            for j in i:n÷i\n",
    "                isprime[i*j] = false\n",
    "            end\n",
    "        end\n",
    "    end\n",
    "    primes\n",
    "end"
   ]
  },
  {
   "cell_type": "code",
   "execution_count": 6,
   "id": "532ff485-11de-4af4-8c73-6a3dabcab7da",
   "metadata": {},
   "outputs": [
    {
     "data": {
      "text/plain": [
       "8-element Vector{Int64}:\n",
       "  2\n",
       "  3\n",
       "  5\n",
       "  7\n",
       " 11\n",
       " 13\n",
       " 17\n",
       " 19"
      ]
     },
     "execution_count": 6,
     "metadata": {},
     "output_type": "execute_result"
    }
   ],
   "source": [
    "sieve(20)"
   ]
  },
  {
   "cell_type": "markdown",
   "id": "09d6b3dc-3b84-4cea-828e-7691a67a7185",
   "metadata": {},
   "source": [
    "Now that we have all the prime numbers up to a given limit, we need a precedure to filter out all the factors of the given number *n*.\\\n",
    "For performance reasons, we will generate prime numbers only up to the square-root of *n*. Every number has at most one prime factor greater than its square-root, and we assume that this will not be the case for the given problem."
   ]
  },
  {
   "cell_type": "code",
   "execution_count": 7,
   "id": "da5b61f5-21f2-42c7-b9ab-5609b18bd737",
   "metadata": {},
   "outputs": [
    {
     "data": {
      "text/plain": [
       "primeFactors (generic function with 1 method)"
      ]
     },
     "execution_count": 7,
     "metadata": {},
     "output_type": "execute_result"
    }
   ],
   "source": [
    "function primeFactors(n)\n",
    "    p = Int64(floor(sqrt(n)))\n",
    "    [d for d in sieve(p) if n % d == 0]\n",
    "end"
   ]
  },
  {
   "cell_type": "code",
   "execution_count": 8,
   "id": "1b876e82-5591-46ca-a06b-b7a6249d44b9",
   "metadata": {},
   "outputs": [
    {
     "data": {
      "text/plain": [
       "4-element Vector{Int64}:\n",
       "  5\n",
       "  7\n",
       " 13\n",
       " 29"
      ]
     },
     "execution_count": 8,
     "metadata": {},
     "output_type": "execute_result"
    }
   ],
   "source": [
    "primeFactors(13195)"
   ]
  },
  {
   "cell_type": "code",
   "execution_count": 9,
   "id": "9b2bcb48-419b-4637-a2af-84e013412b72",
   "metadata": {},
   "outputs": [
    {
     "data": {
      "text/plain": [
       "BenchmarkTools.Trial: 10000 samples with 180 evaluations.\n",
       " Range \u001b[90m(\u001b[39m\u001b[36m\u001b[1mmin\u001b[22m\u001b[39m … \u001b[35mmax\u001b[39m\u001b[90m):  \u001b[39m\u001b[36m\u001b[1m591.839 ns\u001b[22m\u001b[39m … \u001b[35m 16.828 μs\u001b[39m  \u001b[90m┊\u001b[39m GC \u001b[90m(\u001b[39mmin … max\u001b[90m): \u001b[39m0.00% … 94.37%\n",
       " Time  \u001b[90m(\u001b[39m\u001b[34m\u001b[1mmedian\u001b[22m\u001b[39m\u001b[90m):     \u001b[39m\u001b[34m\u001b[1m608.089 ns               \u001b[22m\u001b[39m\u001b[90m┊\u001b[39m GC \u001b[90m(\u001b[39mmedian\u001b[90m):    \u001b[39m0.00%\n",
       " Time  \u001b[90m(\u001b[39m\u001b[32m\u001b[1mmean\u001b[22m\u001b[39m ± \u001b[32mσ\u001b[39m\u001b[90m):   \u001b[39m\u001b[32m\u001b[1m650.296 ns\u001b[22m\u001b[39m ± \u001b[32m646.335 ns\u001b[39m  \u001b[90m┊\u001b[39m GC \u001b[90m(\u001b[39mmean ± σ\u001b[90m):  \u001b[39m5.42% ±  5.19%\n",
       "\n",
       "  \u001b[39m \u001b[39m \u001b[39m \u001b[39m▆\u001b[39m█\u001b[39m▆\u001b[39m▂\u001b[34m \u001b[39m\u001b[39m \u001b[39m \u001b[39m▁\u001b[39m▁\u001b[39m \u001b[39m \u001b[39m \u001b[39m \u001b[39m \u001b[39m \u001b[39m \u001b[39m \u001b[39m \u001b[39m \u001b[39m \u001b[39m \u001b[39m \u001b[32m \u001b[39m\u001b[39m \u001b[39m \u001b[39m \u001b[39m \u001b[39m \u001b[39m \u001b[39m \u001b[39m \u001b[39m \u001b[39m \u001b[39m \u001b[39m \u001b[39m \u001b[39m \u001b[39m \u001b[39m \u001b[39m \u001b[39m \u001b[39m \u001b[39m \u001b[39m \u001b[39m \u001b[39m \u001b[39m \u001b[39m \u001b[39m \u001b[39m \u001b[39m \u001b[39m \u001b[39m \u001b[39m \u001b[39m \u001b[39m \u001b[39m \u001b[39m \u001b[39m \u001b[39m \n",
       "  \u001b[39m▂\u001b[39m▃\u001b[39m▇\u001b[39m█\u001b[39m█\u001b[39m█\u001b[39m█\u001b[34m▇\u001b[39m\u001b[39m▆\u001b[39m█\u001b[39m█\u001b[39m█\u001b[39m▇\u001b[39m▆\u001b[39m▄\u001b[39m▃\u001b[39m▃\u001b[39m▃\u001b[39m▃\u001b[39m▃\u001b[39m▂\u001b[39m▂\u001b[39m▂\u001b[39m▂\u001b[39m▂\u001b[32m▂\u001b[39m\u001b[39m▂\u001b[39m▂\u001b[39m▂\u001b[39m▂\u001b[39m▂\u001b[39m▂\u001b[39m▂\u001b[39m▂\u001b[39m▂\u001b[39m▂\u001b[39m▂\u001b[39m▂\u001b[39m▂\u001b[39m▂\u001b[39m▂\u001b[39m▂\u001b[39m▂\u001b[39m▂\u001b[39m▂\u001b[39m▁\u001b[39m▁\u001b[39m▂\u001b[39m▂\u001b[39m▂\u001b[39m▂\u001b[39m▂\u001b[39m▂\u001b[39m▂\u001b[39m▂\u001b[39m▂\u001b[39m▂\u001b[39m▂\u001b[39m▂\u001b[39m▂\u001b[39m▂\u001b[39m \u001b[39m▃\n",
       "  592 ns\u001b[90m           Histogram: frequency by time\u001b[39m          737 ns \u001b[0m\u001b[1m<\u001b[22m\n",
       "\n",
       " Memory estimate\u001b[90m: \u001b[39m\u001b[33m800 bytes\u001b[39m, allocs estimate\u001b[90m: \u001b[39m\u001b[33m8\u001b[39m."
      ]
     },
     "execution_count": 9,
     "metadata": {},
     "output_type": "execute_result"
    }
   ],
   "source": [
    "@benchmark primeFactors(13195)"
   ]
  },
  {
   "cell_type": "markdown",
   "id": "34e2307c-bab2-4a95-903e-b645bdd855fb",
   "metadata": {},
   "source": [
    "It can be shown that the runtime complexity of `primeFactors` is only $\\mathcal{O}(n \\log n)$,\n",
    "which, compared to the quadratic runtime of `allFactors`, should make it possible to compute the given problem:"
   ]
  },
  {
   "cell_type": "code",
   "execution_count": 10,
   "id": "cfc6dce5-2c53-4d7e-a8c9-5db7da21a50c",
   "metadata": {},
   "outputs": [
    {
     "data": {
      "text/plain": [
       "4-element Vector{Int64}:\n",
       "   71\n",
       "  839\n",
       " 1471\n",
       " 6857"
      ]
     },
     "execution_count": 10,
     "metadata": {},
     "output_type": "execute_result"
    }
   ],
   "source": [
    "primeFactors(600851475143)"
   ]
  },
  {
   "cell_type": "markdown",
   "id": "7cefa995-1154-49c8-9a46-c01f4601e72f",
   "metadata": {},
   "source": [
    "### Dividing by Factors\n",
    "The key to further optimization is a simple idea:\n",
    "> instead of just checking if a number divides *n* we actually divide *n* by this number.\n",
    "\n",
    "Repeatedly dividing *n* by its factors decreases *n* very fast, making early termination of the algorithm possible.\n",
    "\n",
    "The algoritm works as follows:\\\n",
    "for each integer number $k \\geq 2$, if *k* is a factor of *n*, divide *n* by *k* and completely divide out *k* before moving to the next *k*.\n",
    "When the next *k* is a factor of *n* it will necessarily be prime, as all smaller factors have already been removed.\n",
    "After dividing out all prime factors, $n$ will be 1."
   ]
  },
  {
   "cell_type": "code",
   "execution_count": 11,
   "id": "754bcaf8-5c57-4f40-817e-7d68359390b6",
   "metadata": {},
   "outputs": [
    {
     "data": {
      "text/plain": [
       "primeFactors_div (generic function with 1 method)"
      ]
     },
     "execution_count": 11,
     "metadata": {},
     "output_type": "execute_result"
    }
   ],
   "source": [
    "function primeFactors_div(n)\n",
    "  factors = Vector{Int64}()\n",
    "  k = 3\n",
    "\n",
    "  # factor out all even factors; after this step n is odd\n",
    "  while n % 2 == 0\n",
    "    push!(factors, 2)\n",
    "    n ÷= 2\n",
    "  end\n",
    "\n",
    "  # iterate over all odd numbers up to sqrt(n), starting with 3\n",
    "  # stop if n == 1, as all factors already have been factored out\n",
    "  while k * k <= n && n > 1\n",
    "    while n % k == 0\n",
    "      push!(factors, k)\n",
    "      n ÷= k\n",
    "    end\n",
    "    k += 2 # increment k by 2 to get the next odd number\n",
    "  end\n",
    "\n",
    "  # if n > 1 (and therefore k*k > n) then n is the largest factor\n",
    "  # because ever number can only have one factor larger than its sqrt\n",
    "  if n > 1\n",
    "    push!(factors, n)\n",
    "  end\n",
    "\n",
    "  factors\n",
    "end"
   ]
  },
  {
   "cell_type": "code",
   "execution_count": 12,
   "id": "1e2efc5c-fab6-4c43-a288-eaa8a59c443b",
   "metadata": {},
   "outputs": [
    {
     "data": {
      "text/plain": [
       "4-element Vector{Int64}:\n",
       "   71\n",
       "  839\n",
       " 1471\n",
       " 6857"
      ]
     },
     "execution_count": 12,
     "metadata": {},
     "output_type": "execute_result"
    }
   ],
   "source": [
    "primeFactors_div(600851475143)"
   ]
  },
  {
   "cell_type": "code",
   "execution_count": 13,
   "id": "c5e2d1b7-2f5e-4613-9bd2-c0a7246e326b",
   "metadata": {},
   "outputs": [
    {
     "data": {
      "text/plain": [
       "BenchmarkTools.Trial: 10000 samples with 10 evaluations.\n",
       " Range \u001b[90m(\u001b[39m\u001b[36m\u001b[1mmin\u001b[22m\u001b[39m … \u001b[35mmax\u001b[39m\u001b[90m):  \u001b[39m\u001b[36m\u001b[1m1.166 μs\u001b[22m\u001b[39m … \u001b[35m 1.883 μs\u001b[39m  \u001b[90m┊\u001b[39m GC \u001b[90m(\u001b[39mmin … max\u001b[90m): \u001b[39m0.00% … 0.00%\n",
       " Time  \u001b[90m(\u001b[39m\u001b[34m\u001b[1mmedian\u001b[22m\u001b[39m\u001b[90m):     \u001b[39m\u001b[34m\u001b[1m1.193 μs              \u001b[22m\u001b[39m\u001b[90m┊\u001b[39m GC \u001b[90m(\u001b[39mmedian\u001b[90m):    \u001b[39m0.00%\n",
       " Time  \u001b[90m(\u001b[39m\u001b[32m\u001b[1mmean\u001b[22m\u001b[39m ± \u001b[32mσ\u001b[39m\u001b[90m):   \u001b[39m\u001b[32m\u001b[1m1.196 μs\u001b[22m\u001b[39m ± \u001b[32m30.210 ns\u001b[39m  \u001b[90m┊\u001b[39m GC \u001b[90m(\u001b[39mmean ± σ\u001b[90m):  \u001b[39m0.00% ± 0.00%\n",
       "\n",
       "  \u001b[39m \u001b[39m \u001b[39m \u001b[39m \u001b[39m \u001b[39m \u001b[39m \u001b[39m \u001b[39m \u001b[39m \u001b[39m█\u001b[34m \u001b[39m\u001b[39m▇\u001b[39m \u001b[39m \u001b[39m \u001b[39m \u001b[39m \u001b[39m \u001b[39m \u001b[39m \u001b[39m \u001b[39m \u001b[39m \u001b[39m \u001b[39m \u001b[39m \u001b[39m \u001b[39m \u001b[39m \u001b[39m \u001b[39m \u001b[39m \u001b[39m \u001b[39m \u001b[39m \u001b[39m \u001b[39m \u001b[39m \u001b[39m \u001b[39m \u001b[39m \u001b[39m \u001b[39m \u001b[39m \u001b[39m \u001b[39m \u001b[39m \u001b[39m \u001b[39m \u001b[39m \u001b[39m \u001b[39m \u001b[39m \u001b[39m \u001b[39m \u001b[39m \u001b[39m \u001b[39m \u001b[39m \n",
       "  \u001b[39m▂\u001b[39m▂\u001b[39m▅\u001b[39m▆\u001b[39m▅\u001b[39m▃\u001b[39m▁\u001b[39m▂\u001b[39m▃\u001b[39m▄\u001b[39m█\u001b[34m▅\u001b[39m\u001b[39m█\u001b[39m▃\u001b[39m▃\u001b[39m▂\u001b[39m▂\u001b[39m▂\u001b[39m▂\u001b[39m▂\u001b[39m▁\u001b[39m▁\u001b[39m▁\u001b[39m▁\u001b[39m▁\u001b[39m▁\u001b[39m▁\u001b[39m▁\u001b[39m▁\u001b[39m▁\u001b[39m▁\u001b[39m▁\u001b[39m▁\u001b[39m▁\u001b[39m▁\u001b[39m▁\u001b[39m▁\u001b[39m▁\u001b[39m▁\u001b[39m▁\u001b[39m▁\u001b[39m▁\u001b[39m▁\u001b[39m▁\u001b[39m▁\u001b[39m▁\u001b[39m▁\u001b[39m▁\u001b[39m▁\u001b[39m▁\u001b[39m▁\u001b[39m▁\u001b[39m▁\u001b[39m▁\u001b[39m▁\u001b[39m▁\u001b[39m▁\u001b[39m▁\u001b[39m \u001b[39m▂\n",
       "  1.17 μs\u001b[90m        Histogram: frequency by time\u001b[39m        1.31 μs \u001b[0m\u001b[1m<\u001b[22m\n",
       "\n",
       " Memory estimate\u001b[90m: \u001b[39m\u001b[33m144 bytes\u001b[39m, allocs estimate\u001b[90m: \u001b[39m\u001b[33m2\u001b[39m."
      ]
     },
     "execution_count": 13,
     "metadata": {},
     "output_type": "execute_result"
    }
   ],
   "source": [
    "@benchmark primeFactors_div(600851475143)"
   ]
  },
  {
   "cell_type": "markdown",
   "id": "eea42685-0d10-4f8e-bf75-3d4433fbc4b3",
   "metadata": {},
   "source": [
    "Our optimized solution is faster than the version based on sieving prime numbers by a factor of $10^3$:"
   ]
  },
  {
   "cell_type": "code",
   "execution_count": 14,
   "id": "4e6317eb-16df-46aa-8d2f-e6f2e2374bb3",
   "metadata": {},
   "outputs": [
    {
     "data": {
      "text/plain": [
       "BenchmarkTools.Trial: 1438 samples with 1 evaluation.\n",
       " Range \u001b[90m(\u001b[39m\u001b[36m\u001b[1mmin\u001b[22m\u001b[39m … \u001b[35mmax\u001b[39m\u001b[90m):  \u001b[39m\u001b[36m\u001b[1m3.227 ms\u001b[22m\u001b[39m … \u001b[35m 4.146 ms\u001b[39m  \u001b[90m┊\u001b[39m GC \u001b[90m(\u001b[39mmin … max\u001b[90m): \u001b[39m0.00% … 9.98%\n",
       " Time  \u001b[90m(\u001b[39m\u001b[34m\u001b[1mmedian\u001b[22m\u001b[39m\u001b[90m):     \u001b[39m\u001b[34m\u001b[1m3.472 ms              \u001b[22m\u001b[39m\u001b[90m┊\u001b[39m GC \u001b[90m(\u001b[39mmedian\u001b[90m):    \u001b[39m0.00%\n",
       " Time  \u001b[90m(\u001b[39m\u001b[32m\u001b[1mmean\u001b[22m\u001b[39m ± \u001b[32mσ\u001b[39m\u001b[90m):   \u001b[39m\u001b[32m\u001b[1m3.476 ms\u001b[22m\u001b[39m ± \u001b[32m94.045 μs\u001b[39m  \u001b[90m┊\u001b[39m GC \u001b[90m(\u001b[39mmean ± σ\u001b[90m):  \u001b[39m0.17% ± 1.11%\n",
       "\n",
       "  \u001b[39m \u001b[39m \u001b[39m \u001b[39m \u001b[39m \u001b[39m \u001b[39m \u001b[39m \u001b[39m \u001b[39m \u001b[39m \u001b[39m \u001b[39m \u001b[39m \u001b[39m \u001b[39m \u001b[39m \u001b[39m \u001b[39m \u001b[39m▂\u001b[39m▂\u001b[39m▅\u001b[39m▃\u001b[39m▅\u001b[34m█\u001b[39m\u001b[39m█\u001b[39m▆\u001b[39m▁\u001b[39m \u001b[39m \u001b[39m \u001b[39m \u001b[39m \u001b[39m \u001b[39m \u001b[39m \u001b[39m \u001b[39m \u001b[39m \u001b[39m \u001b[39m \u001b[39m \u001b[39m \u001b[39m \u001b[39m \u001b[39m \u001b[39m \u001b[39m \u001b[39m \u001b[39m \u001b[39m \u001b[39m \u001b[39m \u001b[39m \u001b[39m \u001b[39m \u001b[39m \u001b[39m \u001b[39m \u001b[39m \n",
       "  \u001b[39m▂\u001b[39m▂\u001b[39m▁\u001b[39m▂\u001b[39m▂\u001b[39m▃\u001b[39m▃\u001b[39m▃\u001b[39m▄\u001b[39m▄\u001b[39m▃\u001b[39m▄\u001b[39m▄\u001b[39m▆\u001b[39m▅\u001b[39m▅\u001b[39m█\u001b[39m▆\u001b[39m█\u001b[39m█\u001b[39m█\u001b[39m█\u001b[39m█\u001b[39m█\u001b[34m█\u001b[39m\u001b[39m█\u001b[39m█\u001b[39m█\u001b[39m█\u001b[39m▆\u001b[39m▆\u001b[39m▆\u001b[39m▄\u001b[39m▄\u001b[39m▄\u001b[39m▃\u001b[39m▃\u001b[39m▃\u001b[39m▂\u001b[39m▂\u001b[39m▃\u001b[39m▁\u001b[39m▂\u001b[39m▃\u001b[39m▂\u001b[39m▃\u001b[39m▂\u001b[39m▃\u001b[39m▃\u001b[39m▃\u001b[39m▂\u001b[39m▂\u001b[39m▂\u001b[39m▁\u001b[39m▂\u001b[39m▂\u001b[39m▂\u001b[39m▂\u001b[39m \u001b[39m▄\n",
       "  3.23 ms\u001b[90m        Histogram: frequency by time\u001b[39m        3.82 ms \u001b[0m\u001b[1m<\u001b[22m\n",
       "\n",
       " Memory estimate\u001b[90m: \u001b[39m\u001b[33m907.58 KiB\u001b[39m, allocs estimate\u001b[90m: \u001b[39m\u001b[33m16\u001b[39m."
      ]
     },
     "execution_count": 14,
     "metadata": {},
     "output_type": "execute_result"
    }
   ],
   "source": [
    "@benchmark primeFactors(600851475143)"
   ]
  },
  {
   "cell_type": "markdown",
   "id": "e4e80e5d-549b-4b06-b5c3-75042b15520d",
   "metadata": {},
   "source": [
    "But there's still an opportunity for improvement: the problem statement doesn't demand to track all the prime factors; we are only interested in the largest one."
   ]
  },
  {
   "cell_type": "code",
   "execution_count": 18,
   "id": "580e776c-9f91-4624-a6f8-b1637b85db61",
   "metadata": {},
   "outputs": [
    {
     "data": {
      "text/plain": [
       "largestPF (generic function with 1 method)"
      ]
     },
     "execution_count": 18,
     "metadata": {},
     "output_type": "execute_result"
    }
   ],
   "source": [
    "function largestPF(n)\n",
    "    while n % 2 == 0\n",
    "        n ÷= 2\n",
    "    end\n",
    "    k = 3\n",
    "    while k * k <= n\n",
    "        while n % k == 0\n",
    "            n ÷= k\n",
    "        end\n",
    "        n == 1 && return k\n",
    "        k += 2\n",
    "    end\n",
    "    n\n",
    "end"
   ]
  },
  {
   "cell_type": "code",
   "execution_count": 19,
   "id": "435b1ec3-8e92-4898-9c5e-13658737af37",
   "metadata": {},
   "outputs": [
    {
     "data": {
      "text/plain": [
       "6857"
      ]
     },
     "execution_count": 19,
     "metadata": {},
     "output_type": "execute_result"
    }
   ],
   "source": [
    "largestPF(600851475143)"
   ]
  },
  {
   "cell_type": "code",
   "execution_count": 20,
   "id": "ad52e6ce-9a4e-4f7e-aa7d-504593a4b54d",
   "metadata": {},
   "outputs": [
    {
     "data": {
      "text/plain": [
       "BenchmarkTools.Trial: 10000 samples with 10 evaluations.\n",
       " Range \u001b[90m(\u001b[39m\u001b[36m\u001b[1mmin\u001b[22m\u001b[39m … \u001b[35mmax\u001b[39m\u001b[90m):  \u001b[39m\u001b[36m\u001b[1m1.131 μs\u001b[22m\u001b[39m … \u001b[35m 1.799 μs\u001b[39m  \u001b[90m┊\u001b[39m GC \u001b[90m(\u001b[39mmin … max\u001b[90m): \u001b[39m0.00% … 0.00%\n",
       " Time  \u001b[90m(\u001b[39m\u001b[34m\u001b[1mmedian\u001b[22m\u001b[39m\u001b[90m):     \u001b[39m\u001b[34m\u001b[1m1.144 μs              \u001b[22m\u001b[39m\u001b[90m┊\u001b[39m GC \u001b[90m(\u001b[39mmedian\u001b[90m):    \u001b[39m0.00%\n",
       " Time  \u001b[90m(\u001b[39m\u001b[32m\u001b[1mmean\u001b[22m\u001b[39m ± \u001b[32mσ\u001b[39m\u001b[90m):   \u001b[39m\u001b[32m\u001b[1m1.144 μs\u001b[22m\u001b[39m ± \u001b[32m16.601 ns\u001b[39m  \u001b[90m┊\u001b[39m GC \u001b[90m(\u001b[39mmean ± σ\u001b[90m):  \u001b[39m0.00% ± 0.00%\n",
       "\n",
       "  \u001b[39m \u001b[39m \u001b[39m \u001b[39m \u001b[39m \u001b[39m \u001b[39m \u001b[39m \u001b[39m \u001b[39m▅\u001b[39m \u001b[39m \u001b[39m▆\u001b[39m \u001b[39m \u001b[39m \u001b[39m \u001b[39m \u001b[39m \u001b[39m \u001b[39m \u001b[39m \u001b[39m \u001b[39m \u001b[39m \u001b[39m \u001b[39m▃\u001b[39m \u001b[39m \u001b[39m \u001b[39m \u001b[32m▅\u001b[39m\u001b[34m \u001b[39m\u001b[39m▇\u001b[39m \u001b[39m \u001b[39m \u001b[39m \u001b[39m▄\u001b[39m \u001b[39m▁\u001b[39m█\u001b[39m \u001b[39m \u001b[39m \u001b[39m \u001b[39m \u001b[39m \u001b[39m \u001b[39m \u001b[39m \u001b[39m \u001b[39m \u001b[39m \u001b[39m \u001b[39m \u001b[39m \u001b[39m \u001b[39m \u001b[39m \n",
       "  \u001b[39m▃\u001b[39m▁\u001b[39m▇\u001b[39m▁\u001b[39m▄\u001b[39m▃\u001b[39m▁\u001b[39m▂\u001b[39m▁\u001b[39m█\u001b[39m▁\u001b[39m▁\u001b[39m█\u001b[39m▁\u001b[39m▄\u001b[39m▁\u001b[39m▄\u001b[39m▃\u001b[39m▁\u001b[39m▅\u001b[39m▁\u001b[39m▂\u001b[39m▁\u001b[39m▁\u001b[39m█\u001b[39m▁\u001b[39m█\u001b[39m▁\u001b[39m▃\u001b[39m▃\u001b[39m▁\u001b[32m█\u001b[39m\u001b[34m▁\u001b[39m\u001b[39m█\u001b[39m▁\u001b[39m▁\u001b[39m▄\u001b[39m▁\u001b[39m█\u001b[39m▁\u001b[39m█\u001b[39m█\u001b[39m▁\u001b[39m█\u001b[39m▁\u001b[39m▃\u001b[39m▁\u001b[39m▁\u001b[39m▃\u001b[39m▁\u001b[39m▂\u001b[39m▁\u001b[39m▂\u001b[39m▃\u001b[39m▁\u001b[39m▇\u001b[39m▁\u001b[39m▄\u001b[39m \u001b[39m▃\n",
       "  1.13 μs\u001b[90m        Histogram: frequency by time\u001b[39m        1.16 μs \u001b[0m\u001b[1m<\u001b[22m\n",
       "\n",
       " Memory estimate\u001b[90m: \u001b[39m\u001b[33m0 bytes\u001b[39m, allocs estimate\u001b[90m: \u001b[39m\u001b[33m0\u001b[39m."
      ]
     },
     "execution_count": 20,
     "metadata": {},
     "output_type": "execute_result"
    }
   ],
   "source": [
    "@benchmark largestPF(600851475143)"
   ]
  },
  {
   "cell_type": "code",
   "execution_count": null,
   "id": "62343781-f02a-4ff5-aa42-2560ee9557e2",
   "metadata": {},
   "outputs": [],
   "source": []
  }
 ],
 "metadata": {
  "kernelspec": {
   "display_name": "julia 1.10.0",
   "language": "julia",
   "name": "julia-1.10"
  },
  "language_info": {
   "file_extension": ".jl",
   "mimetype": "application/julia",
   "name": "julia",
   "version": "1.10.0"
  }
 },
 "nbformat": 4,
 "nbformat_minor": 5
}
