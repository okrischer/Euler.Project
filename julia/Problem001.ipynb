{
 "cells": [
  {
   "cell_type": "markdown",
   "id": "c67bebfc-2e1b-41e9-a70b-6c63a714b918",
   "metadata": {},
   "source": [
    "# Problem 001: Multiples of 3 or 5\n",
    "If we list all the natural numbers below 10 that are multiples of 3 or 5, we get 3, 5, 6 and 9. The sum of these multiples is 23.\n",
    "\n",
    "**Find the sum of all the multiples of 3 or 5 below 1000.**\n",
    "\n",
    "## Designing the Solution\n",
    "This problem is a variant of the famous [FizzBuzz](https://en.wikipedia.org/wiki/Fizz_buzz) number game, which has been used for assessing fundamental coding skills of aspiring programmers.\\\n",
    "Although beeing a relative trivial problem, which can be solved using *conditionals* and and *looping*, there is one caveat: what happens if the number at hand is a multiple of both 3 and 5?\n",
    "\n",
    "### Iterative Solution\n",
    "A number *m* is a multiple of a natural number *n* if *n* divides *m* without remainder:\n",
    "$\\frac{m}{n} = 0$.\n",
    "\n",
    "For an *iterative solution* we will use a `for-loop`, iterating over all natural numbers from 3 up to the limit and checking if this number is a multiple of 3 or 5, using the *modulo* operator `%`.\n",
    "If so, we add the multiple to a running sum.\\\n",
    "The mentioned difficulty with multiples of both 3 and 5 is handeled via the *logical disjunction* `||` inside the *conditional evaluation* `if`, assuring that the addition is executed only once for every iteration."
   ]
  },
  {
   "cell_type": "code",
   "execution_count": 1,
   "id": "5193dda5-7879-40b5-8625-607ab2388272",
   "metadata": {},
   "outputs": [
    {
     "data": {
      "text/plain": [
       "iterativeSum (generic function with 1 method)"
      ]
     },
     "execution_count": 1,
     "metadata": {},
     "output_type": "execute_result"
    }
   ],
   "source": [
    "function iterativeSum(limit)\n",
    "    acc = 0\n",
    "    for m in 3:limit-1\n",
    "        if m % 3 == 0 || m % 5 == 0\n",
    "            acc += m\n",
    "        end\n",
    "    end\n",
    "    acc\n",
    "end"
   ]
  },
  {
   "cell_type": "markdown",
   "id": "6f80238a-083b-4806-a0a8-3803ac23b41e",
   "metadata": {},
   "source": [
    "We will test every implementation with the `@assert` macro, which simply checks if a given *boolean expression* ist true.\n",
    "The test case comes from the problem description.\\\n",
    "Let's have a look on how that macro works:"
   ]
  },
  {
   "cell_type": "code",
   "execution_count": 2,
   "id": "90aa9231-0c34-4a96-aa1b-c52b66b2f292",
   "metadata": {},
   "outputs": [
    {
     "data": {
      "text/plain": [
       ":(if iterativeSum(10) == 23\n",
       "      nothing\n",
       "  else\n",
       "      Base.throw(Base.AssertionError(\"iterativeSum returns wrong result\"))\n",
       "  end)"
      ]
     },
     "execution_count": 2,
     "metadata": {},
     "output_type": "execute_result"
    }
   ],
   "source": [
    "@macroexpand @assert iterativeSum(10) == 23 \"iterativeSum returns wrong result\""
   ]
  },
  {
   "cell_type": "code",
   "execution_count": 3,
   "id": "a911d4be-bcaf-4fb9-842f-29319503aa01",
   "metadata": {},
   "outputs": [],
   "source": [
    "@assert iterativeSum(10) == 23 \"iterativeSum returns wrong result\""
   ]
  },
  {
   "cell_type": "markdown",
   "id": "356460b0-6283-4f58-a1cb-d70f7fb6b357",
   "metadata": {},
   "source": [
    "### Functional Solution\n",
    "Our *functional solution* will essentially do the same thing as the *iterative solution*, but without an explicit `for-loop` and without the *mutable variable* `acc`.\\\n",
    "This is possible because *julia* provides built-in *higher-order-functions*, which take other functions as their arguments.\\\n",
    "We usually define these parameter-functions, which are passed to other functions, via *anonymous functions*, i.e. function definitions without a name in the form of: `x -> \"do something with x\"`."
   ]
  },
  {
   "cell_type": "code",
   "execution_count": 4,
   "id": "15ee6400-dd78-4254-8780-9f006a7b58d7",
   "metadata": {},
   "outputs": [
    {
     "data": {
      "text/plain": [
       "6"
      ]
     },
     "execution_count": 4,
     "metadata": {},
     "output_type": "execute_result"
    }
   ],
   "source": [
    "(x -> 2x)(3)"
   ]
  },
  {
   "cell_type": "markdown",
   "id": "d56e2952-f15d-4173-9ac3-5a36f70f2148",
   "metadata": {},
   "source": [
    "For our solution we will use the built-in function `sum` and define the check for multiples via an anonymous function, using the *ternary operator* `? :`.\n",
    "As this results in a single expression, we are also able to use *short-form definition*:"
   ]
  },
  {
   "cell_type": "code",
   "execution_count": 5,
   "id": "11961b10-fd25-42b7-acb8-2066dd1a6ada",
   "metadata": {},
   "outputs": [
    {
     "data": {
      "text/plain": [
       "functionalSum (generic function with 1 method)"
      ]
     },
     "execution_count": 5,
     "metadata": {},
     "output_type": "execute_result"
    }
   ],
   "source": [
    "functionalSum(limit) = sum(m -> (m % 3 == 0 || m % 5 == 0) ? m : 0, 3:limit-1)"
   ]
  },
  {
   "cell_type": "code",
   "execution_count": 6,
   "id": "c06a0b11-5b39-43c9-83ed-c9f725949ba5",
   "metadata": {},
   "outputs": [],
   "source": [
    "@assert functionalSum(10) == 23"
   ]
  },
  {
   "cell_type": "markdown",
   "id": "22635a41-62ce-4abb-a718-d5464ec51314",
   "metadata": {},
   "source": [
    "Now that we have two independent solutions, we can expand our tests with checking if both return the same result for a wide range of input values.\n",
    "This is the reason why I have included the parameter `limit` in our functions, so that we can call the functions with different values."
   ]
  },
  {
   "cell_type": "code",
   "execution_count": 7,
   "id": "90cabf26-34bc-4bb5-b80a-73eed1cc6972",
   "metadata": {},
   "outputs": [
    {
     "name": "stdout",
     "output_type": "stream",
     "text": [
      "m = 100\n",
      "m = 200\n",
      "m = 300\n",
      "m = 400\n",
      "m = 500\n",
      "m = 600\n",
      "m = 700\n",
      "m = 800\n",
      "m = 900\n",
      "m = 1000\n"
     ]
    }
   ],
   "source": [
    "for m in 100:100:1000\n",
    "    @show m\n",
    "    @assert functionalSum(m) == iterativeSum(m)\n",
    "end"
   ]
  },
  {
   "cell_type": "markdown",
   "id": "593c27f9-5696-48a0-9f85-821a0132e652",
   "metadata": {},
   "source": [
    "Displaying *m* for every test is helpful to locate and debug errors in case `@assert` does return errors; otherwise it's not necessary.\n",
    "\n",
    "### Performance\n",
    "As both solutions have to iterate over all the natural numbers up to the limit, the runtime complexity is linear to the input size $n$, thus $\\Theta (n)$.\\\n",
    "Let's check if there's a difference between their running times (we are actually checking against an input size of one million, just to get a meaningful result):"
   ]
  },
  {
   "cell_type": "code",
   "execution_count": 8,
   "id": "ad28e881-d4f2-4ca5-98fb-d1c511b40844",
   "metadata": {},
   "outputs": [
    {
     "data": {
      "text/plain": [
       "BenchmarkTools.Trial: 4439 samples with 1 evaluation.\n",
       " Range \u001b[90m(\u001b[39m\u001b[36m\u001b[1mmin\u001b[22m\u001b[39m … \u001b[35mmax\u001b[39m\u001b[90m):  \u001b[39m\u001b[36m\u001b[1m1.123 ms\u001b[22m\u001b[39m … \u001b[35m1.429 ms\u001b[39m  \u001b[90m┊\u001b[39m GC \u001b[90m(\u001b[39mmin … max\u001b[90m): \u001b[39m0.00% … 0.00%\n",
       " Time  \u001b[90m(\u001b[39m\u001b[34m\u001b[1mmedian\u001b[22m\u001b[39m\u001b[90m):     \u001b[39m\u001b[34m\u001b[1m1.123 ms             \u001b[22m\u001b[39m\u001b[90m┊\u001b[39m GC \u001b[90m(\u001b[39mmedian\u001b[90m):    \u001b[39m0.00%\n",
       " Time  \u001b[90m(\u001b[39m\u001b[32m\u001b[1mmean\u001b[22m\u001b[39m ± \u001b[32mσ\u001b[39m\u001b[90m):   \u001b[39m\u001b[32m\u001b[1m1.125 ms\u001b[22m\u001b[39m ± \u001b[32m7.833 μs\u001b[39m  \u001b[90m┊\u001b[39m GC \u001b[90m(\u001b[39mmean ± σ\u001b[90m):  \u001b[39m0.00% ± 0.00%\n",
       "\n",
       "  \u001b[34m█\u001b[39m\u001b[39m \u001b[39m▆\u001b[39m▃\u001b[32m \u001b[39m\u001b[39m \u001b[39m \u001b[39m \u001b[39m \u001b[39m \u001b[39m \u001b[39m \u001b[39m \u001b[39m \u001b[39m \u001b[39m \u001b[39m \u001b[39m \u001b[39m \u001b[39m \u001b[39m \u001b[39m \u001b[39m \u001b[39m \u001b[39m \u001b[39m \u001b[39m \u001b[39m \u001b[39m \u001b[39m \u001b[39m \u001b[39m \u001b[39m \u001b[39m \u001b[39m \u001b[39m \u001b[39m \u001b[39m \u001b[39m \u001b[39m \u001b[39m \u001b[39m \u001b[39m \u001b[39m \u001b[39m \u001b[39m \u001b[39m \u001b[39m \u001b[39m \u001b[39m \u001b[39m \u001b[39m \u001b[39m \u001b[39m \u001b[39m \u001b[39m \u001b[39m \u001b[39m \u001b[39m \n",
       "  \u001b[34m█\u001b[39m\u001b[39m▄\u001b[39m█\u001b[39m█\u001b[32m▆\u001b[39m\u001b[39m▅\u001b[39m▅\u001b[39m▅\u001b[39m▅\u001b[39m▄\u001b[39m▄\u001b[39m▄\u001b[39m▄\u001b[39m▅\u001b[39m▆\u001b[39m▅\u001b[39m▃\u001b[39m▅\u001b[39m▅\u001b[39m▄\u001b[39m▆\u001b[39m▄\u001b[39m▄\u001b[39m▄\u001b[39m▅\u001b[39m▄\u001b[39m▅\u001b[39m▃\u001b[39m▄\u001b[39m▄\u001b[39m▅\u001b[39m▅\u001b[39m▄\u001b[39m▅\u001b[39m▅\u001b[39m▄\u001b[39m▄\u001b[39m▄\u001b[39m▄\u001b[39m▅\u001b[39m▄\u001b[39m▄\u001b[39m▆\u001b[39m▄\u001b[39m▅\u001b[39m▅\u001b[39m▅\u001b[39m▃\u001b[39m▄\u001b[39m▃\u001b[39m▅\u001b[39m▄\u001b[39m▄\u001b[39m▄\u001b[39m▂\u001b[39m▅\u001b[39m█\u001b[39m \u001b[39m█\n",
       "  1.12 ms\u001b[90m     \u001b[39m\u001b[90mHistogram: \u001b[39m\u001b[90m\u001b[1mlog(\u001b[22m\u001b[39m\u001b[90mfrequency\u001b[39m\u001b[90m\u001b[1m)\u001b[22m\u001b[39m\u001b[90m by time\u001b[39m     1.15 ms \u001b[0m\u001b[1m<\u001b[22m\n",
       "\n",
       " Memory estimate\u001b[90m: \u001b[39m\u001b[33m0 bytes\u001b[39m, allocs estimate\u001b[90m: \u001b[39m\u001b[33m0\u001b[39m."
      ]
     },
     "execution_count": 8,
     "metadata": {},
     "output_type": "execute_result"
    }
   ],
   "source": [
    "using BenchmarkTools\n",
    "@benchmark iterativeSum(1_000_000)"
   ]
  },
  {
   "cell_type": "code",
   "execution_count": 9,
   "id": "d061dd0a-28f7-4d9a-9572-75e39ac51eb7",
   "metadata": {},
   "outputs": [
    {
     "data": {
      "text/plain": [
       "BenchmarkTools.Trial: 6025 samples with 1 evaluation.\n",
       " Range \u001b[90m(\u001b[39m\u001b[36m\u001b[1mmin\u001b[22m\u001b[39m … \u001b[35mmax\u001b[39m\u001b[90m):  \u001b[39m\u001b[36m\u001b[1m827.007 μs\u001b[22m\u001b[39m … \u001b[35m851.133 μs\u001b[39m  \u001b[90m┊\u001b[39m GC \u001b[90m(\u001b[39mmin … max\u001b[90m): \u001b[39m0.00% … 0.00%\n",
       " Time  \u001b[90m(\u001b[39m\u001b[34m\u001b[1mmedian\u001b[22m\u001b[39m\u001b[90m):     \u001b[39m\u001b[34m\u001b[1m827.979 μs               \u001b[22m\u001b[39m\u001b[90m┊\u001b[39m GC \u001b[90m(\u001b[39mmedian\u001b[90m):    \u001b[39m0.00%\n",
       " Time  \u001b[90m(\u001b[39m\u001b[32m\u001b[1mmean\u001b[22m\u001b[39m ± \u001b[32mσ\u001b[39m\u001b[90m):   \u001b[39m\u001b[32m\u001b[1m828.993 μs\u001b[22m\u001b[39m ± \u001b[32m  3.557 μs\u001b[39m  \u001b[90m┊\u001b[39m GC \u001b[90m(\u001b[39mmean ± σ\u001b[90m):  \u001b[39m0.00% ± 0.00%\n",
       "\n",
       "  \u001b[39m \u001b[39m▆\u001b[39m█\u001b[34m▇\u001b[39m\u001b[39m▅\u001b[39m▄\u001b[32m▅\u001b[39m\u001b[39m▄\u001b[39m▁\u001b[39m \u001b[39m \u001b[39m \u001b[39m \u001b[39m \u001b[39m \u001b[39m \u001b[39m \u001b[39m \u001b[39m \u001b[39m \u001b[39m \u001b[39m \u001b[39m \u001b[39m \u001b[39m \u001b[39m \u001b[39m \u001b[39m \u001b[39m \u001b[39m \u001b[39m \u001b[39m \u001b[39m \u001b[39m \u001b[39m \u001b[39m \u001b[39m \u001b[39m \u001b[39m \u001b[39m \u001b[39m \u001b[39m \u001b[39m \u001b[39m \u001b[39m \u001b[39m \u001b[39m \u001b[39m \u001b[39m \u001b[39m \u001b[39m \u001b[39m \u001b[39m \u001b[39m \u001b[39m \u001b[39m \u001b[39m \u001b[39m \u001b[39m \u001b[39m \u001b[39m▁\u001b[39m \u001b[39m▁\n",
       "  \u001b[39m█\u001b[39m█\u001b[39m█\u001b[34m█\u001b[39m\u001b[39m█\u001b[39m█\u001b[32m█\u001b[39m\u001b[39m█\u001b[39m█\u001b[39m▇\u001b[39m▆\u001b[39m▄\u001b[39m▅\u001b[39m▄\u001b[39m▄\u001b[39m▄\u001b[39m▅\u001b[39m▄\u001b[39m▄\u001b[39m▅\u001b[39m▆\u001b[39m▅\u001b[39m▄\u001b[39m▅\u001b[39m▅\u001b[39m▆\u001b[39m▅\u001b[39m▄\u001b[39m▂\u001b[39m▄\u001b[39m▅\u001b[39m▅\u001b[39m▃\u001b[39m▅\u001b[39m▄\u001b[39m▃\u001b[39m▅\u001b[39m▄\u001b[39m▄\u001b[39m▅\u001b[39m▅\u001b[39m▅\u001b[39m▄\u001b[39m▅\u001b[39m▅\u001b[39m▅\u001b[39m▃\u001b[39m▅\u001b[39m▅\u001b[39m▅\u001b[39m▅\u001b[39m▅\u001b[39m▆\u001b[39m▅\u001b[39m▅\u001b[39m▅\u001b[39m▄\u001b[39m▅\u001b[39m▆\u001b[39m█\u001b[39m█\u001b[39m \u001b[39m█\n",
       "  827 μs\u001b[90m        \u001b[39m\u001b[90mHistogram: \u001b[39m\u001b[90m\u001b[1mlog(\u001b[22m\u001b[39m\u001b[90mfrequency\u001b[39m\u001b[90m\u001b[1m)\u001b[22m\u001b[39m\u001b[90m by time\u001b[39m        846 μs \u001b[0m\u001b[1m<\u001b[22m\n",
       "\n",
       " Memory estimate\u001b[90m: \u001b[39m\u001b[33m0 bytes\u001b[39m, allocs estimate\u001b[90m: \u001b[39m\u001b[33m0\u001b[39m."
      ]
     },
     "execution_count": 9,
     "metadata": {},
     "output_type": "execute_result"
    }
   ],
   "source": [
    "@benchmark functionalSum(1_000_000)"
   ]
  },
  {
   "cell_type": "markdown",
   "id": "0522c359-3ac5-492f-9c65-7150995836fc",
   "metadata": {},
   "source": [
    "We can see that both solutions don't allocate any memory on the heap, thus the garbage collector is not involved.\n",
    "That's not a surprise, as the only \"objects\" involved are simple `Int64` types, which are kept and modified directy in the program's stack.\n",
    "\n"
   ]
  },
  {
   "cell_type": "code",
   "execution_count": 10,
   "id": "0d4937ea-faea-40ba-9bf6-9217ffb1bd56",
   "metadata": {},
   "outputs": [
    {
     "data": {
      "text/plain": [
       "Int64"
      ]
     },
     "execution_count": 10,
     "metadata": {},
     "output_type": "execute_result"
    }
   ],
   "source": [
    "typeof(iterativeSum(1000))"
   ]
  },
  {
   "cell_type": "markdown",
   "id": "d80e69b7-6bc2-495c-ae90-4630d1e063d3",
   "metadata": {},
   "source": [
    "But it may come as a surprise that the functional version, while being more compact and expressive, is also faster than the iterative solution.\n",
    "Consequently, we will prefer functional definitions over iterative ones in the course of this tutorial.\n",
    "\n",
    "## Optimizing the Solution\n",
    "The starting point for developing an efficient solution is the following idea:\\\n",
    "instead of checking if the target value is divisible by 3 *or* 5, we can check separately for multiples of 3 *and* 5 and then add the results.\n",
    "\n",
    "If we apply our iterative implementation for multiples of 3 and 5 we'd get:\n",
    "\n",
    "$$\n",
    "\\begin{align*}\n",
    "3 + 6 + 9 + \\cdots + 999 &= 3*(1 + 2 + 3 +\\cdots + 333) \\\\\n",
    "5 + 10 + 15 + \\cdots + 995 &= 5*(1 + 2 + 3 + \\cdots + 199)\n",
    "\\end{align*}\n",
    "$$\n",
    "\n",
    "Thus, we can use the equation for *Triangular Numbers*\n",
    "\n",
    "$$\n",
    "T_n = \\sum_{k=1}^n k = 1+2+3+\\cdots+n = \\frac{n(n+1)}{2},\n",
    "$$\n",
    "\n",
    "which leads to this implementation:"
   ]
  },
  {
   "cell_type": "code",
   "execution_count": 11,
   "id": "b43fde87-f82f-4420-9b2d-cd431c9239de",
   "metadata": {},
   "outputs": [
    {
     "data": {
      "text/plain": [
       "triangular (generic function with 1 method)"
      ]
     },
     "execution_count": 11,
     "metadata": {},
     "output_type": "execute_result"
    }
   ],
   "source": [
    "function triangular(factor, limit)\n",
    "    n = (limit - 1) / factor\n",
    "    factor * (n * (n + 1) / 2)\n",
    "end"
   ]
  },
  {
   "cell_type": "markdown",
   "id": "03737c78-d1ad-42ee-a2fa-09e71ca51f9a",
   "metadata": {},
   "source": [
    "But when we add the results for factors 3 and 5, we have to subtract the sum for factor 15 (= 3 * 5), as 15 and its multiples are added twice (for both factors 3 and 5). This leads to our new version:"
   ]
  },
  {
   "cell_type": "code",
   "execution_count": 12,
   "id": "60c2e494-cf86-4719-b966-e52029313801",
   "metadata": {},
   "outputs": [
    {
     "data": {
      "text/plain": [
       "closedSum (generic function with 1 method)"
      ]
     },
     "execution_count": 12,
     "metadata": {},
     "output_type": "execute_result"
    }
   ],
   "source": [
    "function closedSum(limit)\n",
    "    triangular(3, limit) + triangular(5, limit) - triangular(15, limit)\n",
    "end"
   ]
  },
  {
   "cell_type": "code",
   "execution_count": 13,
   "id": "fafafb13-ca99-43ae-a718-9e37c3281751",
   "metadata": {},
   "outputs": [
    {
     "ename": "LoadError",
     "evalue": "AssertionError: closedSum returns wrong result",
     "output_type": "error",
     "traceback": [
      "AssertionError: closedSum returns wrong result",
      "",
      "Stacktrace:",
      " [1] top-level scope",
      "   @ In[13]:1"
     ]
    }
   ],
   "source": [
    "@assert closedSum(10) == 23 \"closedSum returns wrong result\""
   ]
  },
  {
   "cell_type": "markdown",
   "id": "8cfff6ca-31ed-48c5-93c8-93d48678aaa4",
   "metadata": {},
   "source": [
    "We have an error! What happened?\\\n",
    "Let's analyse the result of calling `closedSum`:"
   ]
  },
  {
   "cell_type": "code",
   "execution_count": 14,
   "id": "c5a58d1d-e82c-4c70-9b18-58668ec39a68",
   "metadata": {},
   "outputs": [
    {
     "data": {
      "text/plain": [
       "23.400000000000002"
      ]
     },
     "execution_count": 14,
     "metadata": {},
     "output_type": "execute_result"
    }
   ],
   "source": [
    "closedSum(10)"
   ]
  },
  {
   "cell_type": "markdown",
   "id": "3663ed2a-2476-4957-acab-5a4f803445b9",
   "metadata": {},
   "source": [
    "Obviously, the function returned a *real* number, where it should return an *integer*.\\\n",
    "Let's check this again:"
   ]
  },
  {
   "cell_type": "code",
   "execution_count": 15,
   "id": "06c8f447-aa6a-4902-97c5-1c0cde99d81f",
   "metadata": {},
   "outputs": [
    {
     "data": {
      "text/plain": [
       "Float64"
      ]
     },
     "execution_count": 15,
     "metadata": {},
     "output_type": "execute_result"
    }
   ],
   "source": [
    "typeof(closedSum(10))"
   ]
  },
  {
   "cell_type": "markdown",
   "id": "7f385cd8-98c5-4b01-a95a-e44a4cce08b4",
   "metadata": {},
   "source": [
    "After analyzing our functions, we find that the problem is caused by the function `triangular`, which receives two integer values, but returns a `Float64`:"
   ]
  },
  {
   "cell_type": "code",
   "execution_count": 16,
   "id": "b7f84927-c4bc-4f18-a672-b2e19a846036",
   "metadata": {},
   "outputs": [
    {
     "data": {
      "text/plain": [
       "Float64"
      ]
     },
     "execution_count": 16,
     "metadata": {},
     "output_type": "execute_result"
    }
   ],
   "source": [
    "typeof(triangular(3, 10))"
   ]
  },
  {
   "cell_type": "markdown",
   "id": "185997d4-5583-4af8-a6c5-44a07343f5de",
   "metadata": {},
   "source": [
    "Again, we analyze that function, this time with help of the `@code_warntype` macro:"
   ]
  },
  {
   "cell_type": "code",
   "execution_count": 17,
   "id": "44adbe08-fbfb-439d-9c0d-9f46820ee524",
   "metadata": {},
   "outputs": [
    {
     "name": "stdout",
     "output_type": "stream",
     "text": [
      "MethodInstance for triangular(::Int64, ::Int64)\n",
      "  from triangular(\u001b[90mfactor\u001b[39m, \u001b[90mlimit\u001b[39m)\u001b[90m @\u001b[39m \u001b[90mMain\u001b[39m \u001b[90m\u001b[4mIn[11]:1\u001b[24m\u001b[39m\n",
      "Arguments\n",
      "  #self#\u001b[36m::Core.Const(triangular)\u001b[39m\n",
      "  factor\u001b[36m::Int64\u001b[39m\n",
      "  limit\u001b[36m::Int64\u001b[39m\n",
      "Locals\n",
      "  n\u001b[36m::Float64\u001b[39m\n",
      "Body\u001b[36m::Float64\u001b[39m\n",
      "\u001b[90m1 ─\u001b[39m %1 = (limit - 1)\u001b[36m::Int64\u001b[39m\n",
      "\u001b[90m│  \u001b[39m      (n = %1 / factor)\n",
      "\u001b[90m│  \u001b[39m %3 = n\u001b[36m::Float64\u001b[39m\n",
      "\u001b[90m│  \u001b[39m %4 = (n + 1)\u001b[36m::Float64\u001b[39m\n",
      "\u001b[90m│  \u001b[39m %5 = (%3 * %4)\u001b[36m::Float64\u001b[39m\n",
      "\u001b[90m│  \u001b[39m %6 = (%5 / 2)\u001b[36m::Float64\u001b[39m\n",
      "\u001b[90m│  \u001b[39m %7 = (factor * %6)\u001b[36m::Float64\u001b[39m\n",
      "\u001b[90m└──\u001b[39m      return %7\n",
      "\n"
     ]
    }
   ],
   "source": [
    "@code_warntype triangular(3, 10)"
   ]
  },
  {
   "cell_type": "markdown",
   "id": "7195b8e4-8486-439c-acb0-071ca6e68930",
   "metadata": {},
   "source": [
    "Here we see that the local variable `n` gets assigned to a `Float64` value, hence all subsequent calculations produce a `Float64` as well.\n",
    "And there's the problem: dividing the `limit` by the `factor` with operator `/` produces a `Float64`.\\\n",
    "So all we have to do, is to change that operator into `÷` for integer division."
   ]
  },
  {
   "cell_type": "code",
   "execution_count": 18,
   "id": "d2b520e5-ed39-424a-8230-f55625b1ef00",
   "metadata": {},
   "outputs": [
    {
     "name": "stdout",
     "output_type": "stream",
     "text": [
      "typeof(triangular(3, 10)) = Int64\n",
      "MethodInstance for triangular(::Int64, ::Int64)\n",
      "  from triangular(\u001b[90mfactor\u001b[39m, \u001b[90mlimit\u001b[39m)\u001b[90m @\u001b[39m \u001b[90mMain\u001b[39m \u001b[90m\u001b[4mIn[18]:1\u001b[24m\u001b[39m\n",
      "Arguments\n",
      "  #self#\u001b[36m::Core.Const(triangular)\u001b[39m\n",
      "  factor\u001b[36m::Int64\u001b[39m\n",
      "  limit\u001b[36m::Int64\u001b[39m\n",
      "Locals\n",
      "  n\u001b[36m::Int64\u001b[39m\n",
      "Body\u001b[36m::Int64\u001b[39m\n",
      "\u001b[90m1 ─\u001b[39m %1 = (limit - 1)\u001b[36m::Int64\u001b[39m\n",
      "\u001b[90m│  \u001b[39m      (n = %1 ÷ factor)\n",
      "\u001b[90m│  \u001b[39m %3 = n\u001b[36m::Int64\u001b[39m\n",
      "\u001b[90m│  \u001b[39m %4 = (n + 1)\u001b[36m::Int64\u001b[39m\n",
      "\u001b[90m│  \u001b[39m %5 = (%3 * %4)\u001b[36m::Int64\u001b[39m\n",
      "\u001b[90m│  \u001b[39m %6 = (%5 ÷ 2)\u001b[36m::Int64\u001b[39m\n",
      "\u001b[90m│  \u001b[39m %7 = (factor * %6)\u001b[36m::Int64\u001b[39m\n",
      "\u001b[90m└──\u001b[39m      return %7\n",
      "\n"
     ]
    }
   ],
   "source": [
    "function triangular(factor, limit)\n",
    "    n = (limit - 1) ÷ factor\n",
    "    factor * (n * (n + 1) ÷ 2)\n",
    "end\n",
    "\n",
    "@show typeof(triangular(3, 10))\n",
    "@code_warntype triangular(3, 10)"
   ]
  },
  {
   "cell_type": "markdown",
   "id": "418de49b-c33f-41c1-b027-114458386cc5",
   "metadata": {},
   "source": [
    "Now, having resolved that issue, we test again, and everything should be fine:"
   ]
  },
  {
   "cell_type": "code",
   "execution_count": 19,
   "id": "c4020d50-dd28-40bc-998a-54e054cbd436",
   "metadata": {},
   "outputs": [],
   "source": [
    "@assert closedSum(10) == 23 \"closedSum returns wrong result\""
   ]
  },
  {
   "cell_type": "code",
   "execution_count": 20,
   "id": "f46548b1-969f-4e46-b2ff-6d44db62b795",
   "metadata": {},
   "outputs": [],
   "source": [
    "for m in 100:101:10_000\n",
    "    @assert closedSum(m) == functionalSum(m) \"implementations return different results\"\n",
    "end"
   ]
  },
  {
   "cell_type": "markdown",
   "id": "689e91ca-6406-44ab-a37e-a747b8f3a165",
   "metadata": {},
   "source": [
    "### Performance\n",
    "You might think that calling another function (in our case `triangular`) from the main function `closedSum` will create an overhead, slowing down the computation, but that's not necessarily true:\n",
    "* firstly, we are calling that function only 3 times, hardly creating any overhead\n",
    "* secondly, even if `triangular` would be called a million times, the compiler would probably *inline* that function call, avoiding any function-call overhead.\n",
    "\n",
    "To check if the call of `triangular` gets inlined, we use the macro `@code-typed`:"
   ]
  },
  {
   "cell_type": "code",
   "execution_count": 21,
   "id": "39bd6262-f3cc-4559-ab59-918d4c359f7d",
   "metadata": {},
   "outputs": [
    {
     "data": {
      "text/plain": [
       "CodeInfo(\n",
       "\u001b[90m1 ─\u001b[39m %1  = Base.sub_int(limit, 1)\u001b[36m::Int64\u001b[39m\n",
       "\u001b[90m│  \u001b[39m %2  = Base.checked_sdiv_int(%1, 3)\u001b[36m::Int64\u001b[39m\n",
       "\u001b[90m│  \u001b[39m %3  = Base.add_int(%2, 1)\u001b[36m::Int64\u001b[39m\n",
       "\u001b[90m│  \u001b[39m %4  = Base.mul_int(%2, %3)\u001b[36m::Int64\u001b[39m\n",
       "\u001b[90m│  \u001b[39m %5  = Base.checked_sdiv_int(%4, 2)\u001b[36m::Int64\u001b[39m\n",
       "\u001b[90m│  \u001b[39m %6  = Base.mul_int(3, %5)\u001b[36m::Int64\u001b[39m\n",
       "\u001b[90m│  \u001b[39m %7  = Base.sub_int(limit, 1)\u001b[36m::Int64\u001b[39m\n",
       "\u001b[90m│  \u001b[39m %8  = Base.checked_sdiv_int(%7, 5)\u001b[36m::Int64\u001b[39m\n",
       "\u001b[90m│  \u001b[39m %9  = Base.add_int(%8, 1)\u001b[36m::Int64\u001b[39m\n",
       "\u001b[90m│  \u001b[39m %10 = Base.mul_int(%8, %9)\u001b[36m::Int64\u001b[39m\n",
       "\u001b[90m│  \u001b[39m %11 = Base.checked_sdiv_int(%10, 2)\u001b[36m::Int64\u001b[39m\n",
       "\u001b[90m│  \u001b[39m %12 = Base.mul_int(5, %11)\u001b[36m::Int64\u001b[39m\n",
       "\u001b[90m│  \u001b[39m %13 = Base.add_int(%6, %12)\u001b[36m::Int64\u001b[39m\n",
       "\u001b[90m│  \u001b[39m %14 = Base.sub_int(limit, 1)\u001b[36m::Int64\u001b[39m\n",
       "\u001b[90m│  \u001b[39m %15 = Base.checked_sdiv_int(%14, 15)\u001b[36m::Int64\u001b[39m\n",
       "\u001b[90m│  \u001b[39m %16 = Base.add_int(%15, 1)\u001b[36m::Int64\u001b[39m\n",
       "\u001b[90m│  \u001b[39m %17 = Base.mul_int(%15, %16)\u001b[36m::Int64\u001b[39m\n",
       "\u001b[90m│  \u001b[39m %18 = Base.checked_sdiv_int(%17, 2)\u001b[36m::Int64\u001b[39m\n",
       "\u001b[90m│  \u001b[39m %19 = Base.mul_int(15, %18)\u001b[36m::Int64\u001b[39m\n",
       "\u001b[90m│  \u001b[39m %20 = Base.sub_int(%13, %19)\u001b[36m::Int64\u001b[39m\n",
       "\u001b[90m└──\u001b[39m       return %20\n",
       ") => Int64"
      ]
     },
     "execution_count": 21,
     "metadata": {},
     "output_type": "execute_result"
    }
   ],
   "source": [
    "@code_typed closedSum(100)"
   ]
  },
  {
   "cell_type": "markdown",
   "id": "581f6fe7-ac61-4301-8ea9-f307889cb491",
   "metadata": {},
   "source": [
    "There is no call to the function `triangle` inside `closedSum`: all statements of `triangle` have been inlined into `closedSum`.\\\n",
    "If that hadn't been the case, we could have annotated the function like so: `@inline function triangle(factor, limit)`.\n",
    "\n",
    "Small functions typically do not need the `@inline` annotation, as the compiler does it automatically. By using `@inline` on bigger functions, an extra nudge can be given to the compiler to inline it.\n",
    "\n",
    "Nonetheless, we make a last optimization:\n",
    "we will include the `triangular` function as a local definition in the main procedure `closedSum`, which also eliminates the need for passing the `limit` to that sub-procedure:"
   ]
  },
  {
   "cell_type": "code",
   "execution_count": 22,
   "id": "d601b3b7-f2b2-4742-adc9-0559b7b5f0f2",
   "metadata": {},
   "outputs": [
    {
     "data": {
      "text/plain": [
       "closedSum (generic function with 1 method)"
      ]
     },
     "execution_count": 22,
     "metadata": {},
     "output_type": "execute_result"
    }
   ],
   "source": [
    "function closedSum(limit)\n",
    "    function triangular(factor)\n",
    "        n = (limit - 1) ÷ factor\n",
    "        factor * (n * (n + 1) ÷ 2)\n",
    "    end\n",
    "    \n",
    "    triangular(3) + triangular(5) - triangular(15)\n",
    "end"
   ]
  },
  {
   "cell_type": "code",
   "execution_count": 23,
   "id": "f99a62df-ee2b-418c-927f-085cde298d2b",
   "metadata": {},
   "outputs": [],
   "source": [
    "@assert closedSum(10) == 23 \"closedSum returns wrong result\""
   ]
  },
  {
   "cell_type": "code",
   "execution_count": 24,
   "id": "304bdd69-b758-4367-a292-d600c5ea78b6",
   "metadata": {},
   "outputs": [],
   "source": [
    "for m in 100:101:10_000\n",
    "    @assert closedSum(m) == functionalSum(m)\n",
    "end"
   ]
  },
  {
   "cell_type": "code",
   "execution_count": 25,
   "id": "c140a866-3468-4cee-9c5b-8241cde6594b",
   "metadata": {},
   "outputs": [
    {
     "data": {
      "text/plain": [
       "BenchmarkTools.Trial: 10000 samples with 1000 evaluations.\n",
       " Range \u001b[90m(\u001b[39m\u001b[36m\u001b[1mmin\u001b[22m\u001b[39m … \u001b[35mmax\u001b[39m\u001b[90m):  \u001b[39m\u001b[36m\u001b[1m1.082 ns\u001b[22m\u001b[39m … \u001b[35m3.447 ns\u001b[39m  \u001b[90m┊\u001b[39m GC \u001b[90m(\u001b[39mmin … max\u001b[90m): \u001b[39m0.00% … 0.00%\n",
       " Time  \u001b[90m(\u001b[39m\u001b[34m\u001b[1mmedian\u001b[22m\u001b[39m\u001b[90m):     \u001b[39m\u001b[34m\u001b[1m1.092 ns             \u001b[22m\u001b[39m\u001b[90m┊\u001b[39m GC \u001b[90m(\u001b[39mmedian\u001b[90m):    \u001b[39m0.00%\n",
       " Time  \u001b[90m(\u001b[39m\u001b[32m\u001b[1mmean\u001b[22m\u001b[39m ± \u001b[32mσ\u001b[39m\u001b[90m):   \u001b[39m\u001b[32m\u001b[1m1.090 ns\u001b[22m\u001b[39m ± \u001b[32m0.024 ns\u001b[39m  \u001b[90m┊\u001b[39m GC \u001b[90m(\u001b[39mmean ± σ\u001b[90m):  \u001b[39m0.00% ± 0.00%\n",
       "\n",
       "  \u001b[39m▆\u001b[39m \u001b[39m \u001b[39m \u001b[39m \u001b[39m▁\u001b[39m \u001b[39m \u001b[39m \u001b[39m \u001b[39m \u001b[39m \u001b[39m \u001b[39m \u001b[39m \u001b[39m \u001b[39m \u001b[39m \u001b[39m \u001b[39m \u001b[39m \u001b[39m \u001b[39m \u001b[39m \u001b[39m \u001b[39m \u001b[39m \u001b[39m \u001b[39m \u001b[39m \u001b[39m \u001b[39m \u001b[39m \u001b[39m \u001b[39m \u001b[39m \u001b[39m \u001b[39m \u001b[39m \u001b[39m \u001b[39m \u001b[39m \u001b[39m \u001b[32m \u001b[39m\u001b[39m \u001b[39m \u001b[39m \u001b[39m \u001b[39m \u001b[39m \u001b[39m \u001b[39m█\u001b[34m \u001b[39m\u001b[39m \u001b[39m \u001b[39m \u001b[39m▃\u001b[39m \u001b[39m▁\n",
       "  \u001b[39m█\u001b[39m▁\u001b[39m▁\u001b[39m▁\u001b[39m▁\u001b[39m█\u001b[39m▁\u001b[39m▁\u001b[39m▁\u001b[39m▁\u001b[39m▁\u001b[39m▁\u001b[39m▁\u001b[39m▁\u001b[39m▁\u001b[39m▁\u001b[39m▁\u001b[39m▁\u001b[39m▁\u001b[39m▁\u001b[39m▁\u001b[39m▁\u001b[39m▁\u001b[39m▁\u001b[39m▁\u001b[39m▁\u001b[39m▁\u001b[39m▁\u001b[39m▁\u001b[39m▁\u001b[39m▁\u001b[39m▁\u001b[39m▁\u001b[39m▁\u001b[39m▁\u001b[39m▁\u001b[39m▁\u001b[39m▁\u001b[39m▁\u001b[39m▁\u001b[39m▁\u001b[39m▁\u001b[39m▁\u001b[32m▁\u001b[39m\u001b[39m▁\u001b[39m▁\u001b[39m▁\u001b[39m▁\u001b[39m▁\u001b[39m▁\u001b[39m▁\u001b[39m█\u001b[34m▁\u001b[39m\u001b[39m▁\u001b[39m▁\u001b[39m▁\u001b[39m█\u001b[39m \u001b[39m█\n",
       "  1.08 ns\u001b[90m     \u001b[39m\u001b[90mHistogram: \u001b[39m\u001b[90m\u001b[1mlog(\u001b[22m\u001b[39m\u001b[90mfrequency\u001b[39m\u001b[90m\u001b[1m)\u001b[22m\u001b[39m\u001b[90m by time\u001b[39m     1.09 ns \u001b[0m\u001b[1m<\u001b[22m\n",
       "\n",
       " Memory estimate\u001b[90m: \u001b[39m\u001b[33m0 bytes\u001b[39m, allocs estimate\u001b[90m: \u001b[39m\u001b[33m0\u001b[39m."
      ]
     },
     "execution_count": 25,
     "metadata": {},
     "output_type": "execute_result"
    }
   ],
   "source": [
    "@benchmark closedSum(1_000_000)"
   ]
  },
  {
   "cell_type": "markdown",
   "id": "8f77455d-81e6-423b-bec9-3be53581d718",
   "metadata": {},
   "source": [
    "Our optimized function is about $10^6$ times faster than the iterative ones!\\\n",
    "We called this version `closedSum` because it represents a *closed formula*, which is independent of it's input size.\n",
    "So the runtime complexity of this algorithm is constant, thus $\\Theta(1)$."
   ]
  },
  {
   "cell_type": "markdown",
   "id": "8582be0a-73d6-4f98-847e-bfd152596e2a",
   "metadata": {},
   "source": [
    "## Mathematical Insights\n",
    "We are not going to give formal proofs for our programs. Our main goal is to learn *algorithmic problem solving* and some *concrete mathematics* on the way.\n",
    "\n",
    "But we will try to understand the mathematical concepts used for developing our solutions, including comprehension of proofs for mathematical theorems we have been using.\n",
    "\n",
    "For this chapter, we will look at the equation for *Triangular Numbers*, since we used it for our optimized solution.\n",
    "\n",
    "### Triangular Numbers\n",
    "If you have wondered where the name *Traingular Numbers* comes from, here is an explanation:\\\n",
    "when we choose an arbitrary symbol for the value 1 and stack these symbols on top of each other while adding one extra symbol for each row, we get a graphical representation in the form of an isosceles triangle. For the triangular number $T_{5}$ this would look like so:"
   ]
  },
  {
   "cell_type": "code",
   "execution_count": 26,
   "id": "28e6bc77-9e92-419f-9a04-db12675832de",
   "metadata": {},
   "outputs": [
    {
     "data": {
      "image/svg+xml": [
       "<?xml version=\"1.0\" encoding=\"UTF-8\"?>\n",
       "<svg xmlns=\"http://www.w3.org/2000/svg\" xmlns:xlink=\"http://www.w3.org/1999/xlink\" width=\"200pt\" height=\"150pt\" viewBox=\"0 0 200 150\" version=\"1.1\">\n",
       "<g id=\"surface1\">\n",
       "<path style=\" stroke:none;fill-rule:nonzero;fill:rgb(100%,49.803922%,31.372549%);fill-opacity:1;\" d=\"M 20 120 C 20 125.523438 15.523438 130 10 130 C 4.476562 130 0 125.523438 0 120 C 0 114.476562 4.476562 110 10 110 C 15.523438 110 20 114.476562 20 120 Z M 20 120 \"/>\n",
       "<path style=\" stroke:none;fill-rule:nonzero;fill:rgb(100%,49.803922%,31.372549%);fill-opacity:1;\" d=\"M 40 120 C 40 125.523438 35.523438 130 30 130 C 24.476562 130 20 125.523438 20 120 C 20 114.476562 24.476562 110 30 110 C 35.523438 110 40 114.476562 40 120 Z M 40 120 \"/>\n",
       "<path style=\" stroke:none;fill-rule:nonzero;fill:rgb(100%,49.803922%,31.372549%);fill-opacity:1;\" d=\"M 60 120 C 60 125.523438 55.523438 130 50 130 C 44.476562 130 40 125.523438 40 120 C 40 114.476562 44.476562 110 50 110 C 55.523438 110 60 114.476562 60 120 Z M 60 120 \"/>\n",
       "<path style=\" stroke:none;fill-rule:nonzero;fill:rgb(100%,49.803922%,31.372549%);fill-opacity:1;\" d=\"M 80 120 C 80 125.523438 75.523438 130 70 130 C 64.476562 130 60 125.523438 60 120 C 60 114.476562 64.476562 110 70 110 C 75.523438 110 80 114.476562 80 120 Z M 80 120 \"/>\n",
       "<path style=\" stroke:none;fill-rule:nonzero;fill:rgb(100%,49.803922%,31.372549%);fill-opacity:1;\" d=\"M 100 120 C 100 125.523438 95.523438 130 90 130 C 84.476562 130 80 125.523438 80 120 C 80 114.476562 84.476562 110 90 110 C 95.523438 110 100 114.476562 100 120 Z M 100 120 \"/>\n",
       "<path style=\" stroke:none;fill-rule:nonzero;fill:rgb(100%,49.803922%,31.372549%);fill-opacity:1;\" d=\"M 20 100 C 20 105.523438 15.523438 110 10 110 C 4.476562 110 0 105.523438 0 100 C 0 94.476562 4.476562 90 10 90 C 15.523438 90 20 94.476562 20 100 Z M 20 100 \"/>\n",
       "<path style=\" stroke:none;fill-rule:nonzero;fill:rgb(100%,49.803922%,31.372549%);fill-opacity:1;\" d=\"M 40 100 C 40 105.523438 35.523438 110 30 110 C 24.476562 110 20 105.523438 20 100 C 20 94.476562 24.476562 90 30 90 C 35.523438 90 40 94.476562 40 100 Z M 40 100 \"/>\n",
       "<path style=\" stroke:none;fill-rule:nonzero;fill:rgb(100%,49.803922%,31.372549%);fill-opacity:1;\" d=\"M 60 100 C 60 105.523438 55.523438 110 50 110 C 44.476562 110 40 105.523438 40 100 C 40 94.476562 44.476562 90 50 90 C 55.523438 90 60 94.476562 60 100 Z M 60 100 \"/>\n",
       "<path style=\" stroke:none;fill-rule:nonzero;fill:rgb(100%,49.803922%,31.372549%);fill-opacity:1;\" d=\"M 80 100 C 80 105.523438 75.523438 110 70 110 C 64.476562 110 60 105.523438 60 100 C 60 94.476562 64.476562 90 70 90 C 75.523438 90 80 94.476562 80 100 Z M 80 100 \"/>\n",
       "<path style=\" stroke:none;fill-rule:nonzero;fill:rgb(100%,49.803922%,31.372549%);fill-opacity:1;\" d=\"M 20 80 C 20 85.523438 15.523438 90 10 90 C 4.476562 90 0 85.523438 0 80 C 0 74.476562 4.476562 70 10 70 C 15.523438 70 20 74.476562 20 80 Z M 20 80 \"/>\n",
       "<path style=\" stroke:none;fill-rule:nonzero;fill:rgb(100%,49.803922%,31.372549%);fill-opacity:1;\" d=\"M 40 80 C 40 85.523438 35.523438 90 30 90 C 24.476562 90 20 85.523438 20 80 C 20 74.476562 24.476562 70 30 70 C 35.523438 70 40 74.476562 40 80 Z M 40 80 \"/>\n",
       "<path style=\" stroke:none;fill-rule:nonzero;fill:rgb(100%,49.803922%,31.372549%);fill-opacity:1;\" d=\"M 60 80 C 60 85.523438 55.523438 90 50 90 C 44.476562 90 40 85.523438 40 80 C 40 74.476562 44.476562 70 50 70 C 55.523438 70 60 74.476562 60 80 Z M 60 80 \"/>\n",
       "<path style=\" stroke:none;fill-rule:nonzero;fill:rgb(100%,49.803922%,31.372549%);fill-opacity:1;\" d=\"M 20 60 C 20 65.523438 15.523438 70 10 70 C 4.476562 70 0 65.523438 0 60 C 0 54.476562 4.476562 50 10 50 C 15.523438 50 20 54.476562 20 60 Z M 20 60 \"/>\n",
       "<path style=\" stroke:none;fill-rule:nonzero;fill:rgb(100%,49.803922%,31.372549%);fill-opacity:1;\" d=\"M 40 60 C 40 65.523438 35.523438 70 30 70 C 24.476562 70 20 65.523438 20 60 C 20 54.476562 24.476562 50 30 50 C 35.523438 50 40 54.476562 40 60 Z M 40 60 \"/>\n",
       "<path style=\" stroke:none;fill-rule:nonzero;fill:rgb(100%,49.803922%,31.372549%);fill-opacity:1;\" d=\"M 20 40 C 20 45.523438 15.523438 50 10 50 C 4.476562 50 0 45.523438 0 40 C 0 34.476562 4.476562 30 10 30 C 15.523438 30 20 34.476562 20 40 Z M 20 40 \"/>\n",
       "</g>\n",
       "</svg>\n"
      ],
      "text/plain": []
     },
     "execution_count": 26,
     "metadata": {},
     "output_type": "execute_result"
    }
   ],
   "source": [
    "using Luxor\n",
    "\n",
    "function rows(n, points, r)\n",
    "    if n > 0\n",
    "        circle.(points, r, action = :fill)\n",
    "        translate(Point(0, -2r))\n",
    "        rows(n-1, points[1:end-1], r)\n",
    "    end\n",
    "end\n",
    "\n",
    "function triangularNumber(n, r)\n",
    "    points = Point.(zip(r:2r:2n*r, repeat([0], n)))\n",
    "    rows(n, points, r)\n",
    "end\n",
    "\n",
    "Drawing(200, 150, \"triangular-mumber.svg\")\n",
    "    translate(Point(0, 120))\n",
    "    setcolor(\"coral\")\n",
    "    triangularNumber(5, 10)\n",
    "    finish()\n",
    "preview()"
   ]
  },
  {
   "cell_type": "markdown",
   "id": "23294cba-c6b4-4a84-82c9-c334067399ff",
   "metadata": {},
   "source": [
    "Clearly, the number of elements in such a figure is equal to the sum of all natural numbers up to the given limit:\n",
    "$$\n",
    "T_n = \\sum_{k=1}^n k = 1+2+3+\\cdots+n\n",
    "$$\n",
    "But how can we efficiently count that number of elements?\\\n",
    "The trick is to copy that triangle, rotate it and paste it to the original one, such that the resulting figure is a rectangle:"
   ]
  },
  {
   "cell_type": "code",
   "execution_count": 27,
   "id": "471bbe3b-fada-43da-a781-c1bd78c9b612",
   "metadata": {},
   "outputs": [
    {
     "data": {
      "image/svg+xml": [
       "<?xml version=\"1.0\" encoding=\"UTF-8\"?>\n",
       "<svg xmlns=\"http://www.w3.org/2000/svg\" xmlns:xlink=\"http://www.w3.org/1999/xlink\" width=\"200pt\" height=\"150pt\" viewBox=\"0 0 200 150\" version=\"1.1\">\n",
       "<g id=\"surface6\">\n",
       "<path style=\" stroke:none;fill-rule:nonzero;fill:rgb(100%,49.803922%,31.372549%);fill-opacity:1;\" d=\"M 20 120 C 20 125.523438 15.523438 130 10 130 C 4.476562 130 0 125.523438 0 120 C 0 114.476562 4.476562 110 10 110 C 15.523438 110 20 114.476562 20 120 Z M 20 120 \"/>\n",
       "<path style=\" stroke:none;fill-rule:nonzero;fill:rgb(100%,49.803922%,31.372549%);fill-opacity:1;\" d=\"M 40 120 C 40 125.523438 35.523438 130 30 130 C 24.476562 130 20 125.523438 20 120 C 20 114.476562 24.476562 110 30 110 C 35.523438 110 40 114.476562 40 120 Z M 40 120 \"/>\n",
       "<path style=\" stroke:none;fill-rule:nonzero;fill:rgb(100%,49.803922%,31.372549%);fill-opacity:1;\" d=\"M 60 120 C 60 125.523438 55.523438 130 50 130 C 44.476562 130 40 125.523438 40 120 C 40 114.476562 44.476562 110 50 110 C 55.523438 110 60 114.476562 60 120 Z M 60 120 \"/>\n",
       "<path style=\" stroke:none;fill-rule:nonzero;fill:rgb(100%,49.803922%,31.372549%);fill-opacity:1;\" d=\"M 80 120 C 80 125.523438 75.523438 130 70 130 C 64.476562 130 60 125.523438 60 120 C 60 114.476562 64.476562 110 70 110 C 75.523438 110 80 114.476562 80 120 Z M 80 120 \"/>\n",
       "<path style=\" stroke:none;fill-rule:nonzero;fill:rgb(100%,49.803922%,31.372549%);fill-opacity:1;\" d=\"M 100 120 C 100 125.523438 95.523438 130 90 130 C 84.476562 130 80 125.523438 80 120 C 80 114.476562 84.476562 110 90 110 C 95.523438 110 100 114.476562 100 120 Z M 100 120 \"/>\n",
       "<path style=\" stroke:none;fill-rule:nonzero;fill:rgb(100%,49.803922%,31.372549%);fill-opacity:1;\" d=\"M 20 100 C 20 105.523438 15.523438 110 10 110 C 4.476562 110 0 105.523438 0 100 C 0 94.476562 4.476562 90 10 90 C 15.523438 90 20 94.476562 20 100 Z M 20 100 \"/>\n",
       "<path style=\" stroke:none;fill-rule:nonzero;fill:rgb(100%,49.803922%,31.372549%);fill-opacity:1;\" d=\"M 40 100 C 40 105.523438 35.523438 110 30 110 C 24.476562 110 20 105.523438 20 100 C 20 94.476562 24.476562 90 30 90 C 35.523438 90 40 94.476562 40 100 Z M 40 100 \"/>\n",
       "<path style=\" stroke:none;fill-rule:nonzero;fill:rgb(100%,49.803922%,31.372549%);fill-opacity:1;\" d=\"M 60 100 C 60 105.523438 55.523438 110 50 110 C 44.476562 110 40 105.523438 40 100 C 40 94.476562 44.476562 90 50 90 C 55.523438 90 60 94.476562 60 100 Z M 60 100 \"/>\n",
       "<path style=\" stroke:none;fill-rule:nonzero;fill:rgb(100%,49.803922%,31.372549%);fill-opacity:1;\" d=\"M 80 100 C 80 105.523438 75.523438 110 70 110 C 64.476562 110 60 105.523438 60 100 C 60 94.476562 64.476562 90 70 90 C 75.523438 90 80 94.476562 80 100 Z M 80 100 \"/>\n",
       "<path style=\" stroke:none;fill-rule:nonzero;fill:rgb(100%,49.803922%,31.372549%);fill-opacity:1;\" d=\"M 20 80 C 20 85.523438 15.523438 90 10 90 C 4.476562 90 0 85.523438 0 80 C 0 74.476562 4.476562 70 10 70 C 15.523438 70 20 74.476562 20 80 Z M 20 80 \"/>\n",
       "<path style=\" stroke:none;fill-rule:nonzero;fill:rgb(100%,49.803922%,31.372549%);fill-opacity:1;\" d=\"M 40 80 C 40 85.523438 35.523438 90 30 90 C 24.476562 90 20 85.523438 20 80 C 20 74.476562 24.476562 70 30 70 C 35.523438 70 40 74.476562 40 80 Z M 40 80 \"/>\n",
       "<path style=\" stroke:none;fill-rule:nonzero;fill:rgb(100%,49.803922%,31.372549%);fill-opacity:1;\" d=\"M 60 80 C 60 85.523438 55.523438 90 50 90 C 44.476562 90 40 85.523438 40 80 C 40 74.476562 44.476562 70 50 70 C 55.523438 70 60 74.476562 60 80 Z M 60 80 \"/>\n",
       "<path style=\" stroke:none;fill-rule:nonzero;fill:rgb(100%,49.803922%,31.372549%);fill-opacity:1;\" d=\"M 20 60 C 20 65.523438 15.523438 70 10 70 C 4.476562 70 0 65.523438 0 60 C 0 54.476562 4.476562 50 10 50 C 15.523438 50 20 54.476562 20 60 Z M 20 60 \"/>\n",
       "<path style=\" stroke:none;fill-rule:nonzero;fill:rgb(100%,49.803922%,31.372549%);fill-opacity:1;\" d=\"M 40 60 C 40 65.523438 35.523438 70 30 70 C 24.476562 70 20 65.523438 20 60 C 20 54.476562 24.476562 50 30 50 C 35.523438 50 40 54.476562 40 60 Z M 40 60 \"/>\n",
       "<path style=\" stroke:none;fill-rule:nonzero;fill:rgb(100%,49.803922%,31.372549%);fill-opacity:1;\" d=\"M 20 40 C 20 45.523438 15.523438 50 10 50 C 4.476562 50 0 45.523438 0 40 C 0 34.476562 4.476562 30 10 30 C 15.523438 30 20 34.476562 20 40 Z M 20 40 \"/>\n",
       "<path style=\" stroke:none;fill-rule:nonzero;fill:rgb(69.803922%,13.333333%,13.333333%);fill-opacity:1;\" d=\"M 100 40 C 100 34.476562 104.476562 30 110 30 C 115.523438 30 120 34.476562 120 40 C 120 45.523438 115.523438 50 110 50 C 104.476562 50 100 45.523438 100 40 Z M 100 40 \"/>\n",
       "<path style=\" stroke:none;fill-rule:nonzero;fill:rgb(69.803922%,13.333333%,13.333333%);fill-opacity:1;\" d=\"M 80 40 C 80 34.476562 84.476562 30 90 30 C 95.523438 30 100 34.476562 100 40 C 100 45.523438 95.523438 50 90 50 C 84.476562 50 80 45.523438 80 40 Z M 80 40 \"/>\n",
       "<path style=\" stroke:none;fill-rule:nonzero;fill:rgb(69.803922%,13.333333%,13.333333%);fill-opacity:1;\" d=\"M 60 40 C 60 34.476562 64.476562 30 70 30 C 75.523438 30 80 34.476562 80 40 C 80 45.523438 75.523438 50 70 50 C 64.476562 50 60 45.523438 60 40 Z M 60 40 \"/>\n",
       "<path style=\" stroke:none;fill-rule:nonzero;fill:rgb(69.803922%,13.333333%,13.333333%);fill-opacity:1;\" d=\"M 40 40 C 40 34.476562 44.476562 30 50 30 C 55.523438 30 60 34.476562 60 40 C 60 45.523438 55.523438 50 50 50 C 44.476562 50 40 45.523438 40 40 Z M 40 40 \"/>\n",
       "<path style=\" stroke:none;fill-rule:nonzero;fill:rgb(69.803922%,13.333333%,13.333333%);fill-opacity:1;\" d=\"M 20 40 C 20 34.476562 24.476562 30 30 30 C 35.523438 30 40 34.476562 40 40 C 40 45.523438 35.523438 50 30 50 C 24.476562 50 20 45.523438 20 40 Z M 20 40 \"/>\n",
       "<path style=\" stroke:none;fill-rule:nonzero;fill:rgb(69.803922%,13.333333%,13.333333%);fill-opacity:1;\" d=\"M 100 60 C 100 54.476562 104.476562 50 110 50 C 115.523438 50 120 54.476562 120 60 C 120 65.523438 115.523438 70 110 70 C 104.476562 70 100 65.523438 100 60 Z M 100 60 \"/>\n",
       "<path style=\" stroke:none;fill-rule:nonzero;fill:rgb(69.803922%,13.333333%,13.333333%);fill-opacity:1;\" d=\"M 80 60 C 80 54.476562 84.476562 50 90 50 C 95.523438 50 100 54.476562 100 60 C 100 65.523438 95.523438 70 90 70 C 84.476562 70 80 65.523438 80 60 Z M 80 60 \"/>\n",
       "<path style=\" stroke:none;fill-rule:nonzero;fill:rgb(69.803922%,13.333333%,13.333333%);fill-opacity:1;\" d=\"M 60 60 C 60 54.476562 64.476562 50 70 50 C 75.523438 50 80 54.476562 80 60 C 80 65.523438 75.523438 70 70 70 C 64.476562 70 60 65.523438 60 60 Z M 60 60 \"/>\n",
       "<path style=\" stroke:none;fill-rule:nonzero;fill:rgb(69.803922%,13.333333%,13.333333%);fill-opacity:1;\" d=\"M 40 60 C 40 54.476562 44.476562 50 50 50 C 55.523438 50 60 54.476562 60 60 C 60 65.523438 55.523438 70 50 70 C 44.476562 70 40 65.523438 40 60 Z M 40 60 \"/>\n",
       "<path style=\" stroke:none;fill-rule:nonzero;fill:rgb(69.803922%,13.333333%,13.333333%);fill-opacity:1;\" d=\"M 100 80 C 100 74.476562 104.476562 70 110 70 C 115.523438 70 120 74.476562 120 80 C 120 85.523438 115.523438 90 110 90 C 104.476562 90 100 85.523438 100 80 Z M 100 80 \"/>\n",
       "<path style=\" stroke:none;fill-rule:nonzero;fill:rgb(69.803922%,13.333333%,13.333333%);fill-opacity:1;\" d=\"M 80 80 C 80 74.476562 84.476562 70 90 70 C 95.523438 70 100 74.476562 100 80 C 100 85.523438 95.523438 90 90 90 C 84.476562 90 80 85.523438 80 80 Z M 80 80 \"/>\n",
       "<path style=\" stroke:none;fill-rule:nonzero;fill:rgb(69.803922%,13.333333%,13.333333%);fill-opacity:1;\" d=\"M 60 80 C 60 74.476562 64.476562 70 70 70 C 75.523438 70 80 74.476562 80 80 C 80 85.523438 75.523438 90 70 90 C 64.476562 90 60 85.523438 60 80 Z M 60 80 \"/>\n",
       "<path style=\" stroke:none;fill-rule:nonzero;fill:rgb(69.803922%,13.333333%,13.333333%);fill-opacity:1;\" d=\"M 100 100 C 100 94.476562 104.476562 90 110 90 C 115.523438 90 120 94.476562 120 100 C 120 105.523438 115.523438 110 110 110 C 104.476562 110 100 105.523438 100 100 Z M 100 100 \"/>\n",
       "<path style=\" stroke:none;fill-rule:nonzero;fill:rgb(69.803922%,13.333333%,13.333333%);fill-opacity:1;\" d=\"M 80 100 C 80 94.476562 84.476562 90 90 90 C 95.523438 90 100 94.476562 100 100 C 100 105.523438 95.523438 110 90 110 C 84.476562 110 80 105.523438 80 100 Z M 80 100 \"/>\n",
       "<path style=\" stroke:none;fill-rule:nonzero;fill:rgb(69.803922%,13.333333%,13.333333%);fill-opacity:1;\" d=\"M 100 120 C 100 114.476562 104.476562 110 110 110 C 115.523438 110 120 114.476562 120 120 C 120 125.523438 115.523438 130 110 130 C 104.476562 130 100 125.523438 100 120 Z M 100 120 \"/>\n",
       "</g>\n",
       "</svg>\n"
      ],
      "text/plain": []
     },
     "execution_count": 27,
     "metadata": {},
     "output_type": "execute_result"
    }
   ],
   "source": [
    "Drawing(200, 150, \"rectangular-mumber.svg\")\n",
    "    translate(Point(0, 120))\n",
    "    setcolor(\"coral\")\n",
    "    triangularNumber(5, 10)\n",
    "    rotate(π)\n",
    "    translate(Point(-120, -20))\n",
    "    setcolor(\"firebrick\")\n",
    "    triangularNumber(5, 10)\n",
    "    finish()\n",
    "preview()"
   ]
  },
  {
   "cell_type": "markdown",
   "id": "c1c467db-79eb-4762-a3c9-c3c84eac0180",
   "metadata": {},
   "source": [
    "And we know how to count the number of elements in a rectangle! It's the product of its side lengths: $a*b$.\\\n",
    "Looking at the rectangle above, we see that the number of rows didn't change in respect to the original triangle, so it's `n`.\n",
    "We can also see that the number of columns increased by 1, so it's `n+1`.\n",
    "Thus, the number of elements in that rectangle is $n * (n+1)$, and as we have doubled the original triangle, we have to divide that result by 2:\n",
    "\n",
    "$$\n",
    "T_n = \\sum_{k=1}^n k = \\frac{n(n+1)}{2}.\n",
    "$$\n",
    "\n",
    "With that, $T_{10} = (10 * 11) / 2 = 110 / 2 = 55$, which you are welcome to check by hand with the triangle above. Or we could check it with another test:"
   ]
  },
  {
   "cell_type": "code",
   "execution_count": 28,
   "id": "e913190d-c129-4b9d-a5eb-3d354d8a2a75",
   "metadata": {},
   "outputs": [],
   "source": [
    "for n in 100:111:10_000\n",
    "    @assert sum(1:n) == n*(n+1)÷2 \"formula for triangular numbers is not correct\"\n",
    "end"
   ]
  },
  {
   "cell_type": "markdown",
   "id": "767f455e-b4cd-47fd-94cb-08e8de074bd8",
   "metadata": {},
   "source": [
    "The story is told, that *Carl Friedrich Gauß*, a german mathematician of the 18th century, reinvented that formula at the age of nine.\n",
    "But he didn't use a graphical representation for that, rather an arithmetic sequence.\n",
    "\n",
    "Retracing that appoach, we write all the summands in one line, and in a second line we write them again, but in reverse order. Finally, we add both lines:\n",
    "\n",
    "$$\n",
    "\\begin{align*}\n",
    "T_n &= \\quad1 &+ &\\quad2 &+ &\\quad3 &+ \\cdots &+ \\quad n\\\\\n",
    "T_n &= \\quad n &+ &\\ (n-1) &+ &\\ (n-2) &+ \\cdots &+ \\quad 1\\\\\n",
    "\\hline\n",
    "2T_n &= (n+1) &+ &\\ (n+1) &+ &\\ (n+1) &+ \\cdots &+ (n+1)\n",
    "\\end{align*}\n",
    "$$\n",
    "\n",
    "From the third line we conclude that $2T_n = n*(n+1)$, from which follows: $T_n = \\frac{n(n+1)}{2}.$"
   ]
  },
  {
   "cell_type": "markdown",
   "id": "cd2ef7ec-e070-4dfe-aa0d-6a9c042bcc94",
   "metadata": {},
   "source": [
    "#### Mathematicl Induction\n",
    "Finally, we will give a formal proof for the formula via **mathematical induction**.\n",
    "\n",
    "A *proof by induction* consists of two cases.\n",
    "The first, the ***base case***, proves the statement for $n_0=0$ without assuming any knowledge of other cases.\\\n",
    "The second case, the ***induction step***, proves that if the statement holds for any given case $n = n_0$, then it must also hold for the next case $n = n_0 + 1$.\\\n",
    "These two steps establish that the statement holds for every natural number *n*.\n",
    "The base case does not necessarily begin with $n_0=0$, but often with $n_0=1$, and possibly with any fixed natural number $n_0 = N$, establishing the truth of the statement for all natural numbers $n ≥ N$.\n",
    "\n",
    "To recap, our formula to prove is: $T_n = \\sum_{k=1}^n k = \\frac{n(n+1)}{2}$.\n",
    "\n",
    "For the *base case* we choose $n_0=1$, which leads to $T_1 = \\frac{1(1+1)}{2} = 1$, which is true.\n",
    "\n",
    "Setting $n=n+1$ leads to the *induction step*\n",
    "$$\n",
    "\\sum_{k=1}^{n+1}k = \\frac{(n+1)(n+2)}{2}.\n",
    "$$\n",
    "We now have to show that the left hand side (*lhs*) of the above equation is actually equal to its right hand side (*rhs*). To that goal we transform the *lhs* step by step:\n",
    "\n",
    "$$\n",
    "\\begin{align*}\n",
    "lhs &= \\sum_{k=1}^{n+1}k = \\sum_{k=1}^n k + (n+1)\\\\\n",
    "&= \\frac{n(n+1)}{2} + (n+1)\\\\\n",
    "&= \\frac{n(n+1)}{2} + \\frac{2(n+1)}{2}\\\\\n",
    "&= \\frac{n(n+1)+2(n+1)}{2}\\\\\n",
    "&= \\frac{(n+1)(n+2)}{2} = rhs \\blacksquare\n",
    "\\end{align*}\n",
    "$$\n",
    "\n",
    "Surprisingly, we're allowed to use the original claim (the formula to prove) inside the *induction step* without leading to a *circular argument*. That's because we have defined a *base case*, which terminates the recurrence."
   ]
  },
  {
   "cell_type": "code",
   "execution_count": null,
   "id": "0c7dcdd9-fc55-408b-a492-734d4246d662",
   "metadata": {},
   "outputs": [],
   "source": []
  }
 ],
 "metadata": {
  "kernelspec": {
   "display_name": "Julia 1.9.3",
   "language": "julia",
   "name": "julia-1.9"
  },
  "language_info": {
   "file_extension": ".jl",
   "mimetype": "application/julia",
   "name": "julia",
   "version": "1.9.3"
  }
 },
 "nbformat": 4,
 "nbformat_minor": 5
}
